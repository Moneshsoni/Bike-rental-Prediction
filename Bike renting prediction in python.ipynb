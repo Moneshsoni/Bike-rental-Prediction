{
 "cells": [
  {
   "cell_type": "code",
   "execution_count": 346,
   "metadata": {},
   "outputs": [],
   "source": [
    "#importing libraries\n",
    "#The OS module in Python provides a way of using operating system dependent  functionality. \n",
    "import os \n",
    "#Pandas is a module use for data manipulation and analysis. \n",
    "import pandas as pd\n",
    "#Numpy library is useful linear algebra, Fourier transform,array,matrix and random number capabilities\n",
    "import numpy as np  \n",
    "#Matplotlib is a comprehensive library for creating static, animated, and interactive visualizations in Python.\n",
    "import matplotlib.pyplot as plt\n",
    "from  matplotlib import pyplot\n",
    "#SciPy contains modules for optimization, linear algebra, integration, interpolation, special functions\n",
    "from scipy.stats import chi2_contingency\n",
    "#Seaborn is a Python data visualization library based on matplotlib\n",
    "import seaborn as sns\n",
    "#random module depend on a pseudo-random number generator function random()\n",
    "from random import randrange, uniform\n",
    "#The datetime module supplies classes for manipulating dates and times\n",
    "import datetime\n",
    "#Scikit-learn or sklearn modual provides a range of supervised and unsupervised learning algorithms -\n",
    "#via a consistent interface in Python\n",
    "from sklearn.ensemble import RandomForestRegressor\n",
    "from sklearn.model_selection import train_test_split\n",
    "from sklearn.tree import DecisionTreeRegressor\n",
    " #statsmodels is a Python module that provides classes and functions for the estimation of many different statistical models, \n",
    "#as well as for conducting statistical tests, and statistical data exploration\n",
    "import statsmodels.api as sm\n"
   ]
  },
  {
   "cell_type": "code",
   "execution_count": 347,
   "metadata": {},
   "outputs": [],
   "source": [
    "#change working diroctory using chdir function available in os library ch=change ,dir=diroctory\n",
    "os.chdir(r\"C:\\Users\\ASUS\\Desktop\")\n"
   ]
  },
  {
   "cell_type": "code",
   "execution_count": 348,
   "metadata": {},
   "outputs": [],
   "source": [
    "#Loading dataset\n",
    "#we have loading dataset using of pandas library or read csv file\n",
    "Bike=pd.read_csv(\"day.csv\")"
   ]
  },
  {
   "cell_type": "code",
   "execution_count": 349,
   "metadata": {},
   "outputs": [
    {
     "data": {
      "text/html": [
       "<div>\n",
       "<style scoped>\n",
       "    .dataframe tbody tr th:only-of-type {\n",
       "        vertical-align: middle;\n",
       "    }\n",
       "\n",
       "    .dataframe tbody tr th {\n",
       "        vertical-align: top;\n",
       "    }\n",
       "\n",
       "    .dataframe thead th {\n",
       "        text-align: right;\n",
       "    }\n",
       "</style>\n",
       "<table border=\"1\" class=\"dataframe\">\n",
       "  <thead>\n",
       "    <tr style=\"text-align: right;\">\n",
       "      <th></th>\n",
       "      <th>instant</th>\n",
       "      <th>dteday</th>\n",
       "      <th>season</th>\n",
       "      <th>yr</th>\n",
       "      <th>mnth</th>\n",
       "      <th>holiday</th>\n",
       "      <th>weekday</th>\n",
       "      <th>workingday</th>\n",
       "      <th>weathersit</th>\n",
       "      <th>temp</th>\n",
       "      <th>atemp</th>\n",
       "      <th>hum</th>\n",
       "      <th>windspeed</th>\n",
       "      <th>casual</th>\n",
       "      <th>registered</th>\n",
       "      <th>cnt</th>\n",
       "    </tr>\n",
       "  </thead>\n",
       "  <tbody>\n",
       "    <tr>\n",
       "      <td>0</td>\n",
       "      <td>1</td>\n",
       "      <td>1/1/2011</td>\n",
       "      <td>1</td>\n",
       "      <td>0</td>\n",
       "      <td>1</td>\n",
       "      <td>0</td>\n",
       "      <td>6</td>\n",
       "      <td>0</td>\n",
       "      <td>2</td>\n",
       "      <td>0.344167</td>\n",
       "      <td>0.363625</td>\n",
       "      <td>0.805833</td>\n",
       "      <td>0.160446</td>\n",
       "      <td>331</td>\n",
       "      <td>654</td>\n",
       "      <td>985</td>\n",
       "    </tr>\n",
       "    <tr>\n",
       "      <td>1</td>\n",
       "      <td>2</td>\n",
       "      <td>1/2/2011</td>\n",
       "      <td>1</td>\n",
       "      <td>0</td>\n",
       "      <td>1</td>\n",
       "      <td>0</td>\n",
       "      <td>0</td>\n",
       "      <td>0</td>\n",
       "      <td>2</td>\n",
       "      <td>0.363478</td>\n",
       "      <td>0.353739</td>\n",
       "      <td>0.696087</td>\n",
       "      <td>0.248539</td>\n",
       "      <td>131</td>\n",
       "      <td>670</td>\n",
       "      <td>801</td>\n",
       "    </tr>\n",
       "    <tr>\n",
       "      <td>2</td>\n",
       "      <td>3</td>\n",
       "      <td>1/3/2011</td>\n",
       "      <td>1</td>\n",
       "      <td>0</td>\n",
       "      <td>1</td>\n",
       "      <td>0</td>\n",
       "      <td>1</td>\n",
       "      <td>1</td>\n",
       "      <td>1</td>\n",
       "      <td>0.196364</td>\n",
       "      <td>0.189405</td>\n",
       "      <td>0.437273</td>\n",
       "      <td>0.248309</td>\n",
       "      <td>120</td>\n",
       "      <td>1229</td>\n",
       "      <td>1349</td>\n",
       "    </tr>\n",
       "    <tr>\n",
       "      <td>3</td>\n",
       "      <td>4</td>\n",
       "      <td>1/4/2011</td>\n",
       "      <td>1</td>\n",
       "      <td>0</td>\n",
       "      <td>1</td>\n",
       "      <td>0</td>\n",
       "      <td>2</td>\n",
       "      <td>1</td>\n",
       "      <td>1</td>\n",
       "      <td>0.200000</td>\n",
       "      <td>0.212122</td>\n",
       "      <td>0.590435</td>\n",
       "      <td>0.160296</td>\n",
       "      <td>108</td>\n",
       "      <td>1454</td>\n",
       "      <td>1562</td>\n",
       "    </tr>\n",
       "    <tr>\n",
       "      <td>4</td>\n",
       "      <td>5</td>\n",
       "      <td>1/5/2011</td>\n",
       "      <td>1</td>\n",
       "      <td>0</td>\n",
       "      <td>1</td>\n",
       "      <td>0</td>\n",
       "      <td>3</td>\n",
       "      <td>1</td>\n",
       "      <td>1</td>\n",
       "      <td>0.226957</td>\n",
       "      <td>0.229270</td>\n",
       "      <td>0.436957</td>\n",
       "      <td>0.186900</td>\n",
       "      <td>82</td>\n",
       "      <td>1518</td>\n",
       "      <td>1600</td>\n",
       "    </tr>\n",
       "    <tr>\n",
       "      <td>5</td>\n",
       "      <td>6</td>\n",
       "      <td>1/6/2011</td>\n",
       "      <td>1</td>\n",
       "      <td>0</td>\n",
       "      <td>1</td>\n",
       "      <td>0</td>\n",
       "      <td>4</td>\n",
       "      <td>1</td>\n",
       "      <td>1</td>\n",
       "      <td>0.204348</td>\n",
       "      <td>0.233209</td>\n",
       "      <td>0.518261</td>\n",
       "      <td>0.089565</td>\n",
       "      <td>88</td>\n",
       "      <td>1518</td>\n",
       "      <td>1606</td>\n",
       "    </tr>\n",
       "    <tr>\n",
       "      <td>6</td>\n",
       "      <td>7</td>\n",
       "      <td>1/7/2011</td>\n",
       "      <td>1</td>\n",
       "      <td>0</td>\n",
       "      <td>1</td>\n",
       "      <td>0</td>\n",
       "      <td>5</td>\n",
       "      <td>1</td>\n",
       "      <td>2</td>\n",
       "      <td>0.196522</td>\n",
       "      <td>0.208839</td>\n",
       "      <td>0.498696</td>\n",
       "      <td>0.168726</td>\n",
       "      <td>148</td>\n",
       "      <td>1362</td>\n",
       "      <td>1510</td>\n",
       "    </tr>\n",
       "    <tr>\n",
       "      <td>7</td>\n",
       "      <td>8</td>\n",
       "      <td>1/8/2011</td>\n",
       "      <td>1</td>\n",
       "      <td>0</td>\n",
       "      <td>1</td>\n",
       "      <td>0</td>\n",
       "      <td>6</td>\n",
       "      <td>0</td>\n",
       "      <td>2</td>\n",
       "      <td>0.165000</td>\n",
       "      <td>0.162254</td>\n",
       "      <td>0.535833</td>\n",
       "      <td>0.266804</td>\n",
       "      <td>68</td>\n",
       "      <td>891</td>\n",
       "      <td>959</td>\n",
       "    </tr>\n",
       "    <tr>\n",
       "      <td>8</td>\n",
       "      <td>9</td>\n",
       "      <td>1/9/2011</td>\n",
       "      <td>1</td>\n",
       "      <td>0</td>\n",
       "      <td>1</td>\n",
       "      <td>0</td>\n",
       "      <td>0</td>\n",
       "      <td>0</td>\n",
       "      <td>1</td>\n",
       "      <td>0.138333</td>\n",
       "      <td>0.116175</td>\n",
       "      <td>0.434167</td>\n",
       "      <td>0.361950</td>\n",
       "      <td>54</td>\n",
       "      <td>768</td>\n",
       "      <td>822</td>\n",
       "    </tr>\n",
       "    <tr>\n",
       "      <td>9</td>\n",
       "      <td>10</td>\n",
       "      <td>1/10/2011</td>\n",
       "      <td>1</td>\n",
       "      <td>0</td>\n",
       "      <td>1</td>\n",
       "      <td>0</td>\n",
       "      <td>1</td>\n",
       "      <td>1</td>\n",
       "      <td>1</td>\n",
       "      <td>0.150833</td>\n",
       "      <td>0.150888</td>\n",
       "      <td>0.482917</td>\n",
       "      <td>0.223267</td>\n",
       "      <td>41</td>\n",
       "      <td>1280</td>\n",
       "      <td>1321</td>\n",
       "    </tr>\n",
       "  </tbody>\n",
       "</table>\n",
       "</div>"
      ],
      "text/plain": [
       "   instant     dteday  season  yr  mnth  holiday  weekday  workingday  \\\n",
       "0        1   1/1/2011       1   0     1        0        6           0   \n",
       "1        2   1/2/2011       1   0     1        0        0           0   \n",
       "2        3   1/3/2011       1   0     1        0        1           1   \n",
       "3        4   1/4/2011       1   0     1        0        2           1   \n",
       "4        5   1/5/2011       1   0     1        0        3           1   \n",
       "5        6   1/6/2011       1   0     1        0        4           1   \n",
       "6        7   1/7/2011       1   0     1        0        5           1   \n",
       "7        8   1/8/2011       1   0     1        0        6           0   \n",
       "8        9   1/9/2011       1   0     1        0        0           0   \n",
       "9       10  1/10/2011       1   0     1        0        1           1   \n",
       "\n",
       "   weathersit      temp     atemp       hum  windspeed  casual  registered  \\\n",
       "0           2  0.344167  0.363625  0.805833   0.160446     331         654   \n",
       "1           2  0.363478  0.353739  0.696087   0.248539     131         670   \n",
       "2           1  0.196364  0.189405  0.437273   0.248309     120        1229   \n",
       "3           1  0.200000  0.212122  0.590435   0.160296     108        1454   \n",
       "4           1  0.226957  0.229270  0.436957   0.186900      82        1518   \n",
       "5           1  0.204348  0.233209  0.518261   0.089565      88        1518   \n",
       "6           2  0.196522  0.208839  0.498696   0.168726     148        1362   \n",
       "7           2  0.165000  0.162254  0.535833   0.266804      68         891   \n",
       "8           1  0.138333  0.116175  0.434167   0.361950      54         768   \n",
       "9           1  0.150833  0.150888  0.482917   0.223267      41        1280   \n",
       "\n",
       "    cnt  \n",
       "0   985  \n",
       "1   801  \n",
       "2  1349  \n",
       "3  1562  \n",
       "4  1600  \n",
       "5  1606  \n",
       "6  1510  \n",
       "7   959  \n",
       "8   822  \n",
       "9  1321  "
      ]
     },
     "execution_count": 349,
     "metadata": {},
     "output_type": "execute_result"
    }
   ],
   "source": [
    "#top 10 observation we get using of head function Bike is object here\n",
    "#head()”function of pandas library which returns first five observations of the data set.\n",
    "\n",
    "Bike.head(10)\n"
   ]
  },
  {
   "cell_type": "code",
   "execution_count": 350,
   "metadata": {},
   "outputs": [
    {
     "data": {
      "text/html": [
       "<div>\n",
       "<style scoped>\n",
       "    .dataframe tbody tr th:only-of-type {\n",
       "        vertical-align: middle;\n",
       "    }\n",
       "\n",
       "    .dataframe tbody tr th {\n",
       "        vertical-align: top;\n",
       "    }\n",
       "\n",
       "    .dataframe thead th {\n",
       "        text-align: right;\n",
       "    }\n",
       "</style>\n",
       "<table border=\"1\" class=\"dataframe\">\n",
       "  <thead>\n",
       "    <tr style=\"text-align: right;\">\n",
       "      <th></th>\n",
       "      <th>instant</th>\n",
       "      <th>dteday</th>\n",
       "      <th>season</th>\n",
       "      <th>yr</th>\n",
       "      <th>mnth</th>\n",
       "      <th>holiday</th>\n",
       "      <th>weekday</th>\n",
       "      <th>workingday</th>\n",
       "      <th>weathersit</th>\n",
       "      <th>temp</th>\n",
       "      <th>atemp</th>\n",
       "      <th>hum</th>\n",
       "      <th>windspeed</th>\n",
       "      <th>casual</th>\n",
       "      <th>registered</th>\n",
       "      <th>cnt</th>\n",
       "    </tr>\n",
       "  </thead>\n",
       "  <tbody>\n",
       "    <tr>\n",
       "      <td>726</td>\n",
       "      <td>727</td>\n",
       "      <td>12/27/2012</td>\n",
       "      <td>1</td>\n",
       "      <td>1</td>\n",
       "      <td>12</td>\n",
       "      <td>0</td>\n",
       "      <td>4</td>\n",
       "      <td>1</td>\n",
       "      <td>2</td>\n",
       "      <td>0.254167</td>\n",
       "      <td>0.226642</td>\n",
       "      <td>0.652917</td>\n",
       "      <td>0.350133</td>\n",
       "      <td>247</td>\n",
       "      <td>1867</td>\n",
       "      <td>2114</td>\n",
       "    </tr>\n",
       "    <tr>\n",
       "      <td>727</td>\n",
       "      <td>728</td>\n",
       "      <td>12/28/2012</td>\n",
       "      <td>1</td>\n",
       "      <td>1</td>\n",
       "      <td>12</td>\n",
       "      <td>0</td>\n",
       "      <td>5</td>\n",
       "      <td>1</td>\n",
       "      <td>2</td>\n",
       "      <td>0.253333</td>\n",
       "      <td>0.255046</td>\n",
       "      <td>0.590000</td>\n",
       "      <td>0.155471</td>\n",
       "      <td>644</td>\n",
       "      <td>2451</td>\n",
       "      <td>3095</td>\n",
       "    </tr>\n",
       "    <tr>\n",
       "      <td>728</td>\n",
       "      <td>729</td>\n",
       "      <td>12/29/2012</td>\n",
       "      <td>1</td>\n",
       "      <td>1</td>\n",
       "      <td>12</td>\n",
       "      <td>0</td>\n",
       "      <td>6</td>\n",
       "      <td>0</td>\n",
       "      <td>2</td>\n",
       "      <td>0.253333</td>\n",
       "      <td>0.242400</td>\n",
       "      <td>0.752917</td>\n",
       "      <td>0.124383</td>\n",
       "      <td>159</td>\n",
       "      <td>1182</td>\n",
       "      <td>1341</td>\n",
       "    </tr>\n",
       "    <tr>\n",
       "      <td>729</td>\n",
       "      <td>730</td>\n",
       "      <td>12/30/2012</td>\n",
       "      <td>1</td>\n",
       "      <td>1</td>\n",
       "      <td>12</td>\n",
       "      <td>0</td>\n",
       "      <td>0</td>\n",
       "      <td>0</td>\n",
       "      <td>1</td>\n",
       "      <td>0.255833</td>\n",
       "      <td>0.231700</td>\n",
       "      <td>0.483333</td>\n",
       "      <td>0.350754</td>\n",
       "      <td>364</td>\n",
       "      <td>1432</td>\n",
       "      <td>1796</td>\n",
       "    </tr>\n",
       "    <tr>\n",
       "      <td>730</td>\n",
       "      <td>731</td>\n",
       "      <td>12/31/2012</td>\n",
       "      <td>1</td>\n",
       "      <td>1</td>\n",
       "      <td>12</td>\n",
       "      <td>0</td>\n",
       "      <td>1</td>\n",
       "      <td>1</td>\n",
       "      <td>2</td>\n",
       "      <td>0.215833</td>\n",
       "      <td>0.223487</td>\n",
       "      <td>0.577500</td>\n",
       "      <td>0.154846</td>\n",
       "      <td>439</td>\n",
       "      <td>2290</td>\n",
       "      <td>2729</td>\n",
       "    </tr>\n",
       "  </tbody>\n",
       "</table>\n",
       "</div>"
      ],
      "text/plain": [
       "     instant      dteday  season  yr  mnth  holiday  weekday  workingday  \\\n",
       "726      727  12/27/2012       1   1    12        0        4           1   \n",
       "727      728  12/28/2012       1   1    12        0        5           1   \n",
       "728      729  12/29/2012       1   1    12        0        6           0   \n",
       "729      730  12/30/2012       1   1    12        0        0           0   \n",
       "730      731  12/31/2012       1   1    12        0        1           1   \n",
       "\n",
       "     weathersit      temp     atemp       hum  windspeed  casual  registered  \\\n",
       "726           2  0.254167  0.226642  0.652917   0.350133     247        1867   \n",
       "727           2  0.253333  0.255046  0.590000   0.155471     644        2451   \n",
       "728           2  0.253333  0.242400  0.752917   0.124383     159        1182   \n",
       "729           1  0.255833  0.231700  0.483333   0.350754     364        1432   \n",
       "730           2  0.215833  0.223487  0.577500   0.154846     439        2290   \n",
       "\n",
       "      cnt  \n",
       "726  2114  \n",
       "727  3095  \n",
       "728  1341  \n",
       "729  1796  \n",
       "730  2729  "
      ]
     },
     "execution_count": 350,
     "metadata": {},
     "output_type": "execute_result"
    }
   ],
   "source": [
    "#“.tail()” returns last five observations of the data set.\n",
    "\n",
    "\n",
    "Bike.tail(5)"
   ]
  },
  {
   "cell_type": "code",
   "execution_count": 351,
   "metadata": {},
   "outputs": [
    {
     "data": {
      "text/html": [
       "<div>\n",
       "<style scoped>\n",
       "    .dataframe tbody tr th:only-of-type {\n",
       "        vertical-align: middle;\n",
       "    }\n",
       "\n",
       "    .dataframe tbody tr th {\n",
       "        vertical-align: top;\n",
       "    }\n",
       "\n",
       "    .dataframe thead th {\n",
       "        text-align: right;\n",
       "    }\n",
       "</style>\n",
       "<table border=\"1\" class=\"dataframe\">\n",
       "  <thead>\n",
       "    <tr style=\"text-align: right;\">\n",
       "      <th></th>\n",
       "      <th>instant</th>\n",
       "      <th>season</th>\n",
       "      <th>yr</th>\n",
       "      <th>mnth</th>\n",
       "      <th>holiday</th>\n",
       "      <th>weekday</th>\n",
       "      <th>workingday</th>\n",
       "      <th>weathersit</th>\n",
       "      <th>temp</th>\n",
       "      <th>atemp</th>\n",
       "      <th>hum</th>\n",
       "      <th>windspeed</th>\n",
       "      <th>casual</th>\n",
       "      <th>registered</th>\n",
       "      <th>cnt</th>\n",
       "    </tr>\n",
       "  </thead>\n",
       "  <tbody>\n",
       "    <tr>\n",
       "      <td>count</td>\n",
       "      <td>731.000000</td>\n",
       "      <td>731.000000</td>\n",
       "      <td>731.000000</td>\n",
       "      <td>731.000000</td>\n",
       "      <td>731.000000</td>\n",
       "      <td>731.000000</td>\n",
       "      <td>731.000000</td>\n",
       "      <td>731.000000</td>\n",
       "      <td>731.000000</td>\n",
       "      <td>731.000000</td>\n",
       "      <td>731.000000</td>\n",
       "      <td>731.000000</td>\n",
       "      <td>731.000000</td>\n",
       "      <td>731.000000</td>\n",
       "      <td>731.000000</td>\n",
       "    </tr>\n",
       "    <tr>\n",
       "      <td>mean</td>\n",
       "      <td>366.000000</td>\n",
       "      <td>2.496580</td>\n",
       "      <td>0.500684</td>\n",
       "      <td>6.519836</td>\n",
       "      <td>0.028728</td>\n",
       "      <td>2.997264</td>\n",
       "      <td>0.683995</td>\n",
       "      <td>1.395349</td>\n",
       "      <td>0.495385</td>\n",
       "      <td>0.474354</td>\n",
       "      <td>0.627894</td>\n",
       "      <td>0.190486</td>\n",
       "      <td>848.176471</td>\n",
       "      <td>3656.172367</td>\n",
       "      <td>4504.348837</td>\n",
       "    </tr>\n",
       "    <tr>\n",
       "      <td>std</td>\n",
       "      <td>211.165812</td>\n",
       "      <td>1.110807</td>\n",
       "      <td>0.500342</td>\n",
       "      <td>3.451913</td>\n",
       "      <td>0.167155</td>\n",
       "      <td>2.004787</td>\n",
       "      <td>0.465233</td>\n",
       "      <td>0.544894</td>\n",
       "      <td>0.183051</td>\n",
       "      <td>0.162961</td>\n",
       "      <td>0.142429</td>\n",
       "      <td>0.077498</td>\n",
       "      <td>686.622488</td>\n",
       "      <td>1560.256377</td>\n",
       "      <td>1937.211452</td>\n",
       "    </tr>\n",
       "    <tr>\n",
       "      <td>min</td>\n",
       "      <td>1.000000</td>\n",
       "      <td>1.000000</td>\n",
       "      <td>0.000000</td>\n",
       "      <td>1.000000</td>\n",
       "      <td>0.000000</td>\n",
       "      <td>0.000000</td>\n",
       "      <td>0.000000</td>\n",
       "      <td>1.000000</td>\n",
       "      <td>0.059130</td>\n",
       "      <td>0.079070</td>\n",
       "      <td>0.000000</td>\n",
       "      <td>0.022392</td>\n",
       "      <td>2.000000</td>\n",
       "      <td>20.000000</td>\n",
       "      <td>22.000000</td>\n",
       "    </tr>\n",
       "    <tr>\n",
       "      <td>25%</td>\n",
       "      <td>183.500000</td>\n",
       "      <td>2.000000</td>\n",
       "      <td>0.000000</td>\n",
       "      <td>4.000000</td>\n",
       "      <td>0.000000</td>\n",
       "      <td>1.000000</td>\n",
       "      <td>0.000000</td>\n",
       "      <td>1.000000</td>\n",
       "      <td>0.337083</td>\n",
       "      <td>0.337842</td>\n",
       "      <td>0.520000</td>\n",
       "      <td>0.134950</td>\n",
       "      <td>315.500000</td>\n",
       "      <td>2497.000000</td>\n",
       "      <td>3152.000000</td>\n",
       "    </tr>\n",
       "    <tr>\n",
       "      <td>50%</td>\n",
       "      <td>366.000000</td>\n",
       "      <td>3.000000</td>\n",
       "      <td>1.000000</td>\n",
       "      <td>7.000000</td>\n",
       "      <td>0.000000</td>\n",
       "      <td>3.000000</td>\n",
       "      <td>1.000000</td>\n",
       "      <td>1.000000</td>\n",
       "      <td>0.498333</td>\n",
       "      <td>0.486733</td>\n",
       "      <td>0.626667</td>\n",
       "      <td>0.180975</td>\n",
       "      <td>713.000000</td>\n",
       "      <td>3662.000000</td>\n",
       "      <td>4548.000000</td>\n",
       "    </tr>\n",
       "    <tr>\n",
       "      <td>75%</td>\n",
       "      <td>548.500000</td>\n",
       "      <td>3.000000</td>\n",
       "      <td>1.000000</td>\n",
       "      <td>10.000000</td>\n",
       "      <td>0.000000</td>\n",
       "      <td>5.000000</td>\n",
       "      <td>1.000000</td>\n",
       "      <td>2.000000</td>\n",
       "      <td>0.655417</td>\n",
       "      <td>0.608602</td>\n",
       "      <td>0.730209</td>\n",
       "      <td>0.233214</td>\n",
       "      <td>1096.000000</td>\n",
       "      <td>4776.500000</td>\n",
       "      <td>5956.000000</td>\n",
       "    </tr>\n",
       "    <tr>\n",
       "      <td>max</td>\n",
       "      <td>731.000000</td>\n",
       "      <td>4.000000</td>\n",
       "      <td>1.000000</td>\n",
       "      <td>12.000000</td>\n",
       "      <td>1.000000</td>\n",
       "      <td>6.000000</td>\n",
       "      <td>1.000000</td>\n",
       "      <td>3.000000</td>\n",
       "      <td>0.861667</td>\n",
       "      <td>0.840896</td>\n",
       "      <td>0.972500</td>\n",
       "      <td>0.507463</td>\n",
       "      <td>3410.000000</td>\n",
       "      <td>6946.000000</td>\n",
       "      <td>8714.000000</td>\n",
       "    </tr>\n",
       "  </tbody>\n",
       "</table>\n",
       "</div>"
      ],
      "text/plain": [
       "          instant      season          yr        mnth     holiday     weekday  \\\n",
       "count  731.000000  731.000000  731.000000  731.000000  731.000000  731.000000   \n",
       "mean   366.000000    2.496580    0.500684    6.519836    0.028728    2.997264   \n",
       "std    211.165812    1.110807    0.500342    3.451913    0.167155    2.004787   \n",
       "min      1.000000    1.000000    0.000000    1.000000    0.000000    0.000000   \n",
       "25%    183.500000    2.000000    0.000000    4.000000    0.000000    1.000000   \n",
       "50%    366.000000    3.000000    1.000000    7.000000    0.000000    3.000000   \n",
       "75%    548.500000    3.000000    1.000000   10.000000    0.000000    5.000000   \n",
       "max    731.000000    4.000000    1.000000   12.000000    1.000000    6.000000   \n",
       "\n",
       "       workingday  weathersit        temp       atemp         hum   windspeed  \\\n",
       "count  731.000000  731.000000  731.000000  731.000000  731.000000  731.000000   \n",
       "mean     0.683995    1.395349    0.495385    0.474354    0.627894    0.190486   \n",
       "std      0.465233    0.544894    0.183051    0.162961    0.142429    0.077498   \n",
       "min      0.000000    1.000000    0.059130    0.079070    0.000000    0.022392   \n",
       "25%      0.000000    1.000000    0.337083    0.337842    0.520000    0.134950   \n",
       "50%      1.000000    1.000000    0.498333    0.486733    0.626667    0.180975   \n",
       "75%      1.000000    2.000000    0.655417    0.608602    0.730209    0.233214   \n",
       "max      1.000000    3.000000    0.861667    0.840896    0.972500    0.507463   \n",
       "\n",
       "            casual   registered          cnt  \n",
       "count   731.000000   731.000000   731.000000  \n",
       "mean    848.176471  3656.172367  4504.348837  \n",
       "std     686.622488  1560.256377  1937.211452  \n",
       "min       2.000000    20.000000    22.000000  \n",
       "25%     315.500000  2497.000000  3152.000000  \n",
       "50%     713.000000  3662.000000  4548.000000  \n",
       "75%    1096.000000  4776.500000  5956.000000  \n",
       "max    3410.000000  6946.000000  8714.000000  "
      ]
     },
     "execution_count": 351,
     "metadata": {},
     "output_type": "execute_result"
    }
   ],
   "source": [
    "#Understanding of dataset\n",
    "# “.shape” return number of observation row or column\n",
    "Bike.shape\n",
    "#Bike data set contain 731 row or 16 column\n",
    "\n",
    "#The describe() function in pandas is very handy in getting various summary statistics.\n",
    "#This function returns the count, mean, standard deviation, minimum and maximum values and the quantiles of the data.\n",
    "Bike.describe()"
   ]
  },
  {
   "cell_type": "code",
   "execution_count": 352,
   "metadata": {},
   "outputs": [
    {
     "name": "stdout",
     "output_type": "stream",
     "text": [
      "<class 'pandas.core.frame.DataFrame'>\n",
      "RangeIndex: 731 entries, 0 to 730\n",
      "Data columns (total 16 columns):\n",
      "instant       731 non-null int64\n",
      "dteday        731 non-null object\n",
      "season        731 non-null int64\n",
      "yr            731 non-null int64\n",
      "mnth          731 non-null int64\n",
      "holiday       731 non-null int64\n",
      "weekday       731 non-null int64\n",
      "workingday    731 non-null int64\n",
      "weathersit    731 non-null int64\n",
      "temp          731 non-null float64\n",
      "atemp         731 non-null float64\n",
      "hum           731 non-null float64\n",
      "windspeed     731 non-null float64\n",
      "casual        731 non-null int64\n",
      "registered    731 non-null int64\n",
      "cnt           731 non-null int64\n",
      "dtypes: float64(4), int64(11), object(1)\n",
      "memory usage: 91.5+ KB\n"
     ]
    }
   ],
   "source": [
    "#data set contain integer ,float or variable dteday object(catogrical) type\n",
    "#using of info() funtion we get information of our dataset \n",
    "Bike.info()\n"
   ]
  },
  {
   "cell_type": "code",
   "execution_count": 353,
   "metadata": {},
   "outputs": [
    {
     "data": {
      "text/html": [
       "<div>\n",
       "<style scoped>\n",
       "    .dataframe tbody tr th:only-of-type {\n",
       "        vertical-align: middle;\n",
       "    }\n",
       "\n",
       "    .dataframe tbody tr th {\n",
       "        vertical-align: top;\n",
       "    }\n",
       "\n",
       "    .dataframe thead th {\n",
       "        text-align: right;\n",
       "    }\n",
       "</style>\n",
       "<table border=\"1\" class=\"dataframe\">\n",
       "  <thead>\n",
       "    <tr style=\"text-align: right;\">\n",
       "      <th></th>\n",
       "      <th>0</th>\n",
       "    </tr>\n",
       "  </thead>\n",
       "  <tbody>\n",
       "    <tr>\n",
       "      <td>0</td>\n",
       "      <td>instant</td>\n",
       "    </tr>\n",
       "    <tr>\n",
       "      <td>1</td>\n",
       "      <td>dteday</td>\n",
       "    </tr>\n",
       "    <tr>\n",
       "      <td>2</td>\n",
       "      <td>season</td>\n",
       "    </tr>\n",
       "    <tr>\n",
       "      <td>3</td>\n",
       "      <td>yr</td>\n",
       "    </tr>\n",
       "    <tr>\n",
       "      <td>4</td>\n",
       "      <td>mnth</td>\n",
       "    </tr>\n",
       "    <tr>\n",
       "      <td>5</td>\n",
       "      <td>holiday</td>\n",
       "    </tr>\n",
       "    <tr>\n",
       "      <td>6</td>\n",
       "      <td>weekday</td>\n",
       "    </tr>\n",
       "    <tr>\n",
       "      <td>7</td>\n",
       "      <td>workingday</td>\n",
       "    </tr>\n",
       "    <tr>\n",
       "      <td>8</td>\n",
       "      <td>weathersit</td>\n",
       "    </tr>\n",
       "    <tr>\n",
       "      <td>9</td>\n",
       "      <td>temp</td>\n",
       "    </tr>\n",
       "    <tr>\n",
       "      <td>10</td>\n",
       "      <td>atemp</td>\n",
       "    </tr>\n",
       "    <tr>\n",
       "      <td>11</td>\n",
       "      <td>hum</td>\n",
       "    </tr>\n",
       "    <tr>\n",
       "      <td>12</td>\n",
       "      <td>windspeed</td>\n",
       "    </tr>\n",
       "    <tr>\n",
       "      <td>13</td>\n",
       "      <td>casual</td>\n",
       "    </tr>\n",
       "    <tr>\n",
       "      <td>14</td>\n",
       "      <td>registered</td>\n",
       "    </tr>\n",
       "    <tr>\n",
       "      <td>15</td>\n",
       "      <td>cnt</td>\n",
       "    </tr>\n",
       "  </tbody>\n",
       "</table>\n",
       "</div>"
      ],
      "text/plain": [
       "             0\n",
       "0      instant\n",
       "1       dteday\n",
       "2       season\n",
       "3           yr\n",
       "4         mnth\n",
       "5      holiday\n",
       "6      weekday\n",
       "7   workingday\n",
       "8   weathersit\n",
       "9         temp\n",
       "10       atemp\n",
       "11         hum\n",
       "12   windspeed\n",
       "13      casual\n",
       "14  registered\n",
       "15         cnt"
      ]
     },
     "execution_count": 353,
     "metadata": {},
     "output_type": "execute_result"
    }
   ],
   "source": [
    "#all variable  name in dataset\n",
    "col_name=Bike.columns\n",
    "pd.DataFrame(col_name)"
   ]
  },
  {
   "cell_type": "markdown",
   "metadata": {},
   "source": [
    "# Univariate Analysis"
   ]
  },
  {
   "cell_type": "code",
   "execution_count": 354,
   "metadata": {},
   "outputs": [],
   "source": [
    "#Univariate analysis is perhaps the simplest form of statistical analysis.\n",
    "#The key fact is that only one variable is involved in univariate analysis."
   ]
  },
  {
   "cell_type": "code",
   "execution_count": 355,
   "metadata": {},
   "outputs": [
    {
     "data": {
      "text/plain": [
       "count     731.000000\n",
       "mean     4504.348837\n",
       "std      1937.211452\n",
       "min        22.000000\n",
       "25%      3152.000000\n",
       "50%      4548.000000\n",
       "75%      5956.000000\n",
       "max      8714.000000\n",
       "Name: cnt, dtype: float64"
      ]
     },
     "execution_count": 355,
     "metadata": {},
     "output_type": "execute_result"
    }
   ],
   "source": [
    "\n",
    "#Target variable  analysis\n",
    "#descriptive statistics summary\n",
    "#describe() function in pandas is very handy in getting various summary statistics\n",
    "#cnt variable is our target variable\n",
    "Bike['cnt'].describe()\n"
   ]
  },
  {
   "cell_type": "code",
   "execution_count": 356,
   "metadata": {},
   "outputs": [
    {
     "data": {
      "text/plain": [
       "<matplotlib.axes._subplots.AxesSubplot at 0x2b6fbda9d08>"
      ]
     },
     "execution_count": 356,
     "metadata": {},
     "output_type": "execute_result"
    },
    {
     "data": {
      "image/png": "[encoded data removed]",
      "text/plain": [
       "<Figure size 432x288 with 1 Axes>"
      ]
     },
     "metadata": {
      "needs_background": "light"
     },
     "output_type": "display_data"
    }
   ],
   "source": [
    "#Check whether target variable is normal or not\n",
    "#most value cnt variable is 0.00005 to 0.00015\n",
    "#Flexibly plot a univariate distribution of observations.\n",
    "sns.distplot(Bike['cnt'],color=\"m\")\n",
    "#Below plot is showing cnt variable is normaly distributed"
   ]
  },
  {
   "cell_type": "code",
   "execution_count": 357,
   "metadata": {},
   "outputs": [
    {
     "data": {
      "text/plain": [
       "<matplotlib.axes._subplots.AxesSubplot at 0x2b6fe94e0c8>"
      ]
     },
     "execution_count": 357,
     "metadata": {},
     "output_type": "execute_result"
    },
    {
     "data": {
      "image/png": "[encoded data removed]",
      "text/plain": [
       "<Figure size 432x288 with 1 Axes>"
      ]
     },
     "metadata": {
      "needs_background": "light"
     },
     "output_type": "display_data"
    }
   ],
   "source": [
    "#we have to do univariate analysis only numeric variable so we select numeric varaible in our Bike data set \n",
    "#Here is Distributation indpendent numeric variable \n",
    "#check temp variable normal or not check also outlier available in temp variable \n",
    "#we have plot numeric value using of seaborn library or distplot() function \n",
    "sns.distplot(Bike['temp'],color=\"m\")"
   ]
  },
  {
   "cell_type": "code",
   "execution_count": 358,
   "metadata": {},
   "outputs": [
    {
     "data": {
      "text/plain": [
       "<matplotlib.axes._subplots.AxesSubplot at 0x2b6fe9d9588>"
      ]
     },
     "execution_count": 358,
     "metadata": {},
     "output_type": "execute_result"
    },
    {
     "data": {
      "image/png": "[encoded data removed]",
      "text/plain": [
       "<Figure size 432x288 with 1 Axes>"
      ]
     },
     "metadata": {
      "needs_background": "light"
     },
     "output_type": "display_data"
    }
   ],
   "source": [
    "#check atemp variable normal or not their available outlier value or not or range in numeric value using of seborn library\n",
    "#distplot function plot to atemp  variable \n",
    "sns.distplot(Bike['atemp'],color=\"m\")\n",
    "\n"
   ]
  },
  {
   "cell_type": "code",
   "execution_count": 360,
   "metadata": {},
   "outputs": [
    {
     "data": {
      "text/plain": [
       "<matplotlib.axes._subplots.AxesSubplot at 0x2b6f7587288>"
      ]
     },
     "execution_count": 360,
     "metadata": {},
     "output_type": "execute_result"
    },
    {
     "data": {
      "image/png": "[encoded data removed]",
      "text/plain": [
       "<Figure size 432x288 with 1 Axes>"
      ]
     },
     "metadata": {
      "needs_background": "light"
     },
     "output_type": "display_data"
    }
   ],
   "source": [
    "#check hum variable normal or not their available outlier value or not or range in numeric value using of seborn library\n",
    "#distplot function plot to hum  variable \n",
    "sns.distplot(Bike['hum'],color=\"m\")"
   ]
  },
  {
   "cell_type": "code",
   "execution_count": 361,
   "metadata": {},
   "outputs": [
    {
     "data": {
      "text/plain": [
       "<matplotlib.axes._subplots.AxesSubplot at 0x2b6fbb50ac8>"
      ]
     },
     "execution_count": 361,
     "metadata": {},
     "output_type": "execute_result"
    },
    {
     "data": {
      "image/png": "[encoded data removed]",
      "text/plain": [
       "<Figure size 432x288 with 1 Axes>"
      ]
     },
     "metadata": {
      "needs_background": "light"
     },
     "output_type": "display_data"
    }
   ],
   "source": [
    "#check windspeed variable normal or not their available outlier value or not or range in numeric value using of seborn library\n",
    "#distplot function plot to windspeed  variable \n",
    "\n",
    "sns.distplot(Bike['windspeed'],color=\"m\")"
   ]
  },
  {
   "cell_type": "code",
   "execution_count": 362,
   "metadata": {},
   "outputs": [
    {
     "data": {
      "text/plain": [
       "<matplotlib.axes._subplots.AxesSubplot at 0x2b6f69fde48>"
      ]
     },
     "execution_count": 362,
     "metadata": {},
     "output_type": "execute_result"
    },
    {
     "data": {
      "image/png": "[encoded data removed]",
      "text/plain": [
       "<Figure size 432x288 with 1 Axes>"
      ]
     },
     "metadata": {
      "needs_background": "light"
     },
     "output_type": "display_data"
    }
   ],
   "source": [
    "#check casual variable normal or not their available outlier value or not or range in numeric value using of seborn library\n",
    "#distplot function plot to casual  variable \n",
    "#In casual variable chances of outlier value is high \n",
    "sns.distplot(Bike['casual'],color=\"red\")"
   ]
  },
  {
   "cell_type": "code",
   "execution_count": 363,
   "metadata": {},
   "outputs": [
    {
     "data": {
      "text/plain": [
       "<matplotlib.axes._subplots.AxesSubplot at 0x2b6fbc96048>"
      ]
     },
     "execution_count": 363,
     "metadata": {},
     "output_type": "execute_result"
    },
    {
     "data": {
      "image/png": "[encoded data removed]",
      "text/plain": [
       "<Figure size 432x288 with 1 Axes>"
      ]
     },
     "metadata": {
      "needs_background": "light"
     },
     "output_type": "display_data"
    }
   ],
   "source": [
    "#check registered variable normal or not their available outlier value or not or range in numeric value using of seborn library\n",
    "#distplot function plot to registered  variable \n",
    "sns.distplot(Bike['registered'],color=\"m\")"
   ]
  },
  {
   "cell_type": "code",
   "execution_count": 364,
   "metadata": {},
   "outputs": [
    {
     "name": "stdout",
     "output_type": "stream",
     "text": [
      "Skewness: -0.047353\n",
      "Kurtosis: -0.811922\n"
     ]
    }
   ],
   "source": [
    "#skewnwss is Assymetry distributation \n",
    "#Here skewness  value is -0.047353 their is negative skewness \n",
    "#Here Kurtosis value is -0.811922 if value is less than 0 than their is playtocartic\n",
    "#Here kurtosis is very less so target variable is playticartic distribitation\n",
    "print(\"Skewness: %f\" % Bike['cnt'].skew())\n",
    "print(\"Kurtosis: %f\" % Bike['cnt'].kurt())"
   ]
  },
  {
   "cell_type": "markdown",
   "metadata": {},
   "source": [
    "# Bivariate  Relationship"
   ]
  },
  {
   "cell_type": "code",
   "execution_count": 365,
   "metadata": {},
   "outputs": [
    {
     "data": {
      "text/plain": [
       "<matplotlib.axes._subplots.AxesSubplot at 0x2b6fe485108>"
      ]
     },
     "execution_count": 365,
     "metadata": {},
     "output_type": "execute_result"
    },
    {
     "data": {
      "image/png": "[encoded data removed]",
      "text/plain": [
       "<Figure size 432x288 with 1 Axes>"
      ]
     },
     "metadata": {
      "needs_background": "light"
     },
     "output_type": "display_data"
    }
   ],
   "source": [
    "#Bivariate analysis is one of the simplest forms of quantitative analysis.\n",
    "#Bivariate analysis involve two variable. \n",
    "# Bivariate analysis  helpful in testing simple hypotheses of association.\n",
    "#Let's we check now numeric variable temp or target variable cnt Bivariate relationship\n",
    "#Using of value_counts() function returns object containing counts of unique values.\n",
    "Bike['temp'].value_counts()\n",
    "#Now we drow scatter plot in betweent temp or cnt variable\n",
    "variable = 'temp'\n",
    "#using of concati function in pandas library  \n",
    "#Concatenate pandas objects along a particular axis with optional set logic along the other axes\n",
    "Bi_ralationship= pd.concat([Bike['cnt'], Bike[variable]], axis=1)\n",
    "#Using of matplotlib library scatter(x,y) creates a scatter plot with circles at the locations specified by \n",
    "#the vectors x and y\n",
    "Bi_ralationship.plot.scatter(x=variable, y='cnt', ylim=(0,10000),color=\"red\")\n",
    "#scatter plot is showing positive relationship between temp or cnt variable \n",
    "\n"
   ]
  },
  {
   "cell_type": "code",
   "execution_count": 366,
   "metadata": {},
   "outputs": [
    {
     "data": {
      "text/plain": [
       "<matplotlib.axes._subplots.AxesSubplot at 0x2b6fe4c83c8>"
      ]
     },
     "execution_count": 366,
     "metadata": {},
     "output_type": "execute_result"
    },
    {
     "data": {
      "image/png": "[encoded data removed]",
      "text/plain": [
       "<Figure size 432x288 with 1 Axes>"
      ]
     },
     "metadata": {
      "needs_background": "light"
     },
     "output_type": "display_data"
    }
   ],
   "source": [
    "#relation between Numerical Variable 'hum' and target variable 'cnt'\n",
    "Bike['hum'].value_counts()\n",
    "#Now we draw scatter plot between 'hum' and 'cnt' variables\n",
    "variable = 'hum'\n",
    "#Concatenate pandas objects along a particular axis with optional set logic along the other axes\n",
    "Bi_ralationship= pd.concat([Bike['cnt'], Bike[variable]], axis=1)\n",
    "#Using of matplotlib library scatter(x,y) creates a scatter plot with circles at the locations specified by \n",
    "#the vectors x and y\n",
    "Bi_ralationship.plot.scatter(x=variable, y='cnt', ylim=(0,10000),color=\"red\")\n",
    "#scatter plot is showing average relationship between hum variable or target variable cnt \n",
    " \n"
   ]
  },
  {
   "cell_type": "code",
   "execution_count": 367,
   "metadata": {},
   "outputs": [
    {
     "data": {
      "text/plain": [
       "<matplotlib.axes._subplots.AxesSubplot at 0x2b6fe5383c8>"
      ]
     },
     "execution_count": 367,
     "metadata": {},
     "output_type": "execute_result"
    },
    {
     "data": {
      "image/png": "[encoded data removed]",
      "text/plain": [
       "<Figure size 432x288 with 1 Axes>"
      ]
     },
     "metadata": {
      "needs_background": "light"
     },
     "output_type": "display_data"
    }
   ],
   "source": [
    "#relation between Numerical Variable 'atemp' and target variable 'cnt'\n",
    "Bike['atemp'].value_counts()\n",
    "#Now we draw scatter plot between 'atemp' and 'cnt' variables\n",
    "variable = 'atemp'\n",
    "#Concatenate pandas objects along a particular axis with optional set logic along the other axes\n",
    "Bi_ralationship= pd.concat([Bike['cnt'], Bike[variable]], axis=1)\n",
    "#Using of matplotlib library scatter(x,y) creates a scatter plot with circles at the locations specified by the vectors x and y\n",
    "Bi_ralationship.plot.scatter(x=variable, y='cnt', ylim=(0,10000))\n",
    "#scatter plot is showing positive relationship between atemp variable or target cnt variable\n"
   ]
  },
  {
   "cell_type": "code",
   "execution_count": 368,
   "metadata": {},
   "outputs": [
    {
     "data": {
      "text/plain": [
       "<matplotlib.axes._subplots.AxesSubplot at 0x2b6fe5a7608>"
      ]
     },
     "execution_count": 368,
     "metadata": {},
     "output_type": "execute_result"
    },
    {
     "data": {
      "image/png": "[encoded data removed]",
      "text/plain": [
       "<Figure size 432x288 with 1 Axes>"
      ]
     },
     "metadata": {
      "needs_background": "light"
     },
     "output_type": "display_data"
    }
   ],
   "source": [
    "#relation between Numerical Variable 'windspeed' and target variable 'cnt'\n",
    "Bike['windspeed'].value_counts()\n",
    "#Now we draw scatter plot between 'atemp' and 'cnt' variables\n",
    "variable = 'windspeed'\n",
    "#Concatenate pandas objects along a particular axis with optional set logic along the other axes\n",
    "Bi_ralationship= pd.concat([Bike['cnt'], Bike[variable]], axis=1)\n",
    "#Using of matplotlib library scatter(x,y) creates a scatter plot with circles at the locations specified by the vectors x and y\n",
    "Bi_ralationship.plot.scatter(x=variable, y='cnt', ylim=(0,10000))\n",
    "#scatter plot is showing negative relationship between windspeed and target variable cnt"
   ]
  },
  {
   "cell_type": "code",
   "execution_count": 369,
   "metadata": {},
   "outputs": [
    {
     "data": {
      "text/plain": [
       "(-0.5, 6.5, 0, 10000)"
      ]
     },
     "execution_count": 369,
     "metadata": {},
     "output_type": "execute_result"
    },
    {
     "data": {
      "image/png": "[encoded data removed]",
      "text/plain": [
       "<Figure size 864x720 with 1 Axes>"
      ]
     },
     "metadata": {
      "needs_background": "light"
     },
     "output_type": "display_data"
    }
   ],
   "source": [
    "#Bivariate relationship  weekday is catogaries  data or target variable cnt \n",
    "#box plot to show distributions with respect to categories\n",
    "#box plot 'Weekdays' with 'cnt'\n",
    "variable_weekdays = 'weekday'\n",
    "#Concatenate pandas objects along a particular axis with optional set logic along the other axes\n",
    "data = pd.concat([Bike['cnt'], Bike[variable_weekdays]], axis=1)\n",
    "#subplot(): The function returns a figure object and a tuple containing axes objects equal to nrows*ncols\n",
    "f, ax = plt.subplots(figsize=(12, 10))\n",
    "#seaborn. boxplot. Draw a box plot to show distributions with respect to categories\n",
    "fig = sns.boxplot(x=variable_weekdays, y=\"cnt\", data=data)\n",
    "fig.axis(ymin=0, ymax=10000)\n",
    "#Boxplot shows most median value between 4000-5000\n"
   ]
  },
  {
   "cell_type": "code",
   "execution_count": 370,
   "metadata": {},
   "outputs": [
    {
     "data": {
      "text/plain": [
       "(-0.5, 1.5, 0, 10000)"
      ]
     },
     "execution_count": 370,
     "metadata": {},
     "output_type": "execute_result"
    },
    {
     "data": {
      "image/png": "[encoded data removed]",
      "text/plain": [
       "<Figure size 864x720 with 1 Axes>"
      ]
     },
     "metadata": {
      "needs_background": "light"
     },
     "output_type": "display_data"
    }
   ],
   "source": [
    "#Bivariate relationship  holiday is catogaries  data or target variable cnt \n",
    "#box plot to show distributions with respect to categories\n",
    "#box plot 'holiday' with 'CNT'\n",
    "variable_holiday = 'holiday'\n",
    "#Concatenate pandas objects along a particular axis with optional set logic along the other axes\n",
    "data = pd.concat([Bike['cnt'], Bike[variable_holiday]], axis=1)\n",
    "#subplot(): The function returns a figure object and a tuple containing axes objects equal to nrows*ncols\n",
    "f, ax = plt.subplots(figsize=(12, 10))\n",
    "#seaborn. boxplot. Draw a box plot to show distributions with respect to categories\n",
    "fig = sns.boxplot(x=variable_holiday, y=\"cnt\", data=data)\n",
    "fig.axis(ymin=0, ymax=10000)\n",
    "# If day is neither weekend nor holiday is 1\n",
    "#otherwise 0\n",
    "#below Boxplot is showing that median  high on holidays when compare to weekdays"
   ]
  },
  {
   "cell_type": "markdown",
   "metadata": {},
   "source": [
    "# Missing value Analysis"
   ]
  },
  {
   "cell_type": "code",
   "execution_count": 371,
   "metadata": {},
   "outputs": [
    {
     "data": {
      "text/html": [
       "<div>\n",
       "<style scoped>\n",
       "    .dataframe tbody tr th:only-of-type {\n",
       "        vertical-align: middle;\n",
       "    }\n",
       "\n",
       "    .dataframe tbody tr th {\n",
       "        vertical-align: top;\n",
       "    }\n",
       "\n",
       "    .dataframe thead th {\n",
       "        text-align: right;\n",
       "    }\n",
       "</style>\n",
       "<table border=\"1\" class=\"dataframe\">\n",
       "  <thead>\n",
       "    <tr style=\"text-align: right;\">\n",
       "      <th></th>\n",
       "      <th>Total</th>\n",
       "      <th>Percent</th>\n",
       "    </tr>\n",
       "  </thead>\n",
       "  <tbody>\n",
       "    <tr>\n",
       "      <td>cnt</td>\n",
       "      <td>0</td>\n",
       "      <td>0.0</td>\n",
       "    </tr>\n",
       "    <tr>\n",
       "      <td>registered</td>\n",
       "      <td>0</td>\n",
       "      <td>0.0</td>\n",
       "    </tr>\n",
       "    <tr>\n",
       "      <td>casual</td>\n",
       "      <td>0</td>\n",
       "      <td>0.0</td>\n",
       "    </tr>\n",
       "    <tr>\n",
       "      <td>windspeed</td>\n",
       "      <td>0</td>\n",
       "      <td>0.0</td>\n",
       "    </tr>\n",
       "    <tr>\n",
       "      <td>hum</td>\n",
       "      <td>0</td>\n",
       "      <td>0.0</td>\n",
       "    </tr>\n",
       "    <tr>\n",
       "      <td>atemp</td>\n",
       "      <td>0</td>\n",
       "      <td>0.0</td>\n",
       "    </tr>\n",
       "    <tr>\n",
       "      <td>temp</td>\n",
       "      <td>0</td>\n",
       "      <td>0.0</td>\n",
       "    </tr>\n",
       "    <tr>\n",
       "      <td>weathersit</td>\n",
       "      <td>0</td>\n",
       "      <td>0.0</td>\n",
       "    </tr>\n",
       "    <tr>\n",
       "      <td>workingday</td>\n",
       "      <td>0</td>\n",
       "      <td>0.0</td>\n",
       "    </tr>\n",
       "    <tr>\n",
       "      <td>weekday</td>\n",
       "      <td>0</td>\n",
       "      <td>0.0</td>\n",
       "    </tr>\n",
       "    <tr>\n",
       "      <td>holiday</td>\n",
       "      <td>0</td>\n",
       "      <td>0.0</td>\n",
       "    </tr>\n",
       "    <tr>\n",
       "      <td>mnth</td>\n",
       "      <td>0</td>\n",
       "      <td>0.0</td>\n",
       "    </tr>\n",
       "    <tr>\n",
       "      <td>yr</td>\n",
       "      <td>0</td>\n",
       "      <td>0.0</td>\n",
       "    </tr>\n",
       "    <tr>\n",
       "      <td>season</td>\n",
       "      <td>0</td>\n",
       "      <td>0.0</td>\n",
       "    </tr>\n",
       "    <tr>\n",
       "      <td>dteday</td>\n",
       "      <td>0</td>\n",
       "      <td>0.0</td>\n",
       "    </tr>\n",
       "    <tr>\n",
       "      <td>instant</td>\n",
       "      <td>0</td>\n",
       "      <td>0.0</td>\n",
       "    </tr>\n",
       "  </tbody>\n",
       "</table>\n",
       "</div>"
      ],
      "text/plain": [
       "            Total  Percent\n",
       "cnt             0      0.0\n",
       "registered      0      0.0\n",
       "casual          0      0.0\n",
       "windspeed       0      0.0\n",
       "hum             0      0.0\n",
       "atemp           0      0.0\n",
       "temp            0      0.0\n",
       "weathersit      0      0.0\n",
       "workingday      0      0.0\n",
       "weekday         0      0.0\n",
       "holiday         0      0.0\n",
       "mnth            0      0.0\n",
       "yr              0      0.0\n",
       "season          0      0.0\n",
       "dteday          0      0.0\n",
       "instant         0      0.0"
      ]
     },
     "execution_count": 371,
     "metadata": {},
     "output_type": "execute_result"
    }
   ],
   "source": [
    "#missing values, occur when no data value is stored for the variable in an observation. Missing data are a common occurrence\n",
    "#and can have a significant effect on the conclusions that can be drawn from the data.\n",
    "#The isnull() function is used to detect missing values for an array-like object\n",
    "#The sort() method sorts the elements of a given list in a specific order - Ascending or Descending.\n",
    "#here we short descending order \n",
    "total = Bike.isnull().sum().sort_values(ascending=False)\n",
    "percent = (Bike.isnull().sum()/Bike.isnull().count()).sort_values(ascending=False)\n",
    "#Total,percent column name \n",
    "missing_data = pd.concat([total, percent], axis=1, keys=['Total', 'Percent'])\n",
    "missing_data.head(100)\n",
    "#In Bike dataset is not available missing value "
   ]
  },
  {
   "cell_type": "markdown",
   "metadata": {},
   "source": [
    "# Outlier Analysis"
   ]
  },
  {
   "cell_type": "code",
   "execution_count": 372,
   "metadata": {},
   "outputs": [
    {
     "data": {
      "text/plain": [
       "<matplotlib.axes._subplots.AxesSubplot at 0x2b6ffd1b248>"
      ]
     },
     "execution_count": 372,
     "metadata": {},
     "output_type": "execute_result"
    },
    {
     "data": {
      "image/png": "[encoded data removed]",
      "text/plain": [
       "<Figure size 432x288 with 1 Axes>"
      ]
     },
     "metadata": {
      "needs_background": "light"
     },
     "output_type": "display_data"
    }
   ],
   "source": [
    "# An outlier is an element of a data set that distinctly stands out from the rest of the data. \n",
    "#In other words, outliers are those data points that lie outside \n",
    "#below plot is show variable is available outlier \n",
    "sns.boxplot(Bike['casual'],color=\"yellow\")"
   ]
  },
  {
   "cell_type": "code",
   "execution_count": 373,
   "metadata": {},
   "outputs": [
    {
     "data": {
      "text/plain": [
       "<matplotlib.axes._subplots.AxesSubplot at 0x2b68020ac88>"
      ]
     },
     "execution_count": 373,
     "metadata": {},
     "output_type": "execute_result"
    },
    {
     "data": {
      "image/png": "[encoded data removed]",
      "text/plain": [
       "<Figure size 432x288 with 1 Axes>"
      ]
     },
     "metadata": {
      "needs_background": "light"
     },
     "output_type": "display_data"
    }
   ],
   "source": [
    "#in registered numeric variable is not available outlier value\n",
    "sns.boxplot(Bike['registered'],color=\"yellow\")"
   ]
  },
  {
   "cell_type": "code",
   "execution_count": 374,
   "metadata": {},
   "outputs": [],
   "source": [
    "cnames=['casual']"
   ]
  },
  {
   "cell_type": "code",
   "execution_count": 375,
   "metadata": {},
   "outputs": [
    {
     "data": {
      "text/plain": [
       "['casual']"
      ]
     },
     "execution_count": 375,
     "metadata": {},
     "output_type": "execute_result"
    }
   ],
   "source": [
    " \n",
    "cnames"
   ]
  },
  {
   "cell_type": "code",
   "execution_count": 376,
   "metadata": {},
   "outputs": [
    {
     "name": "stdout",
     "output_type": "stream",
     "text": [
      "casual\n",
      "-855.25\n",
      "2266.75\n"
     ]
    }
   ],
   "source": [
    "#Detact and delete outlier using of for loop and Iqr\n",
    "for i in cnames:\n",
    "    #print variable name \n",
    "    print(i)\n",
    "    # percentile() function used to compute the nth precentile of the given data (array elements) \n",
    "\n",
    "    q75,q25=np.percentile(Bike.loc[:,i],[75,25])\n",
    "    #IQR can be used to identify outliers in a data set.\n",
    "    # Formula of IQR=Q3-Q1\n",
    "    iqr=q75-q25\n",
    "    min=q25-(iqr*1.5)\n",
    "    max=q75+(iqr*1.5)\n",
    "    #print minimum value in variable \n",
    "    print(min)\n",
    "    #print maximum value in variable \n",
    "    print(max)\n",
    "    #using of drop function we have drope outlier value \n",
    "    Bike=Bike.drop(Bike[Bike.loc[:,i]<min].index)\n",
    "    Bike=Bike.drop(Bike[Bike.loc[:,i]>max].index)\n",
    "    #Below show minimum value in casual variable is -855.25\n",
    "    #Below show maximum value in casual variable is 2266.75\n",
    "    "
   ]
  },
  {
   "cell_type": "code",
   "execution_count": 377,
   "metadata": {},
   "outputs": [
    {
     "data": {
      "text/plain": [
       "<matplotlib.axes._subplots.AxesSubplot at 0x2b68026b548>"
      ]
     },
     "execution_count": 377,
     "metadata": {},
     "output_type": "execute_result"
    },
    {
     "data": {
      "image/png": "[encoded data removed]",
      "text/plain": [
       "<Figure size 432x288 with 1 Axes>"
      ]
     },
     "metadata": {
      "needs_background": "light"
     },
     "output_type": "display_data"
    }
   ],
   "source": [
    "\n",
    "\n",
    "#After remove outlier in casual variable \n",
    "#plot show their is not available now outliers \n",
    "sns.boxplot(Bike['casual'],color=\"yellow\")"
   ]
  },
  {
   "cell_type": "markdown",
   "metadata": {},
   "source": [
    "\n",
    "# Feature selection "
   ]
  },
  {
   "cell_type": "code",
   "execution_count": 378,
   "metadata": {},
   "outputs": [],
   "source": [
    "#Feature selection or variable subset selection,is the process of selecting a subset of relevant \n",
    "#features for use in model construction.\n",
    "#correlation plot\n",
    "Bike_corr=Bike "
   ]
  },
  {
   "cell_type": "code",
   "execution_count": 379,
   "metadata": {},
   "outputs": [
    {
     "data": {
      "text/plain": [
       "(687, 16)"
      ]
     },
     "execution_count": 379,
     "metadata": {},
     "output_type": "execute_result"
    }
   ],
   "source": [
    "Bike_corr.shape#total observation is 687 and 16 column "
   ]
  },
  {
   "cell_type": "code",
   "execution_count": 380,
   "metadata": {},
   "outputs": [
    {
     "data": {
      "text/plain": [
       "<matplotlib.axes._subplots.AxesSubplot at 0x2b6802d9688>"
      ]
     },
     "execution_count": 380,
     "metadata": {},
     "output_type": "execute_result"
    },
    {
     "data": {
      "image/png": "[encoded data removed]",
      "text/plain": [
       "<Figure size 1080x720 with 2 Axes>"
      ]
     },
     "metadata": {
      "needs_background": "light"
     },
     "output_type": "display_data"
    }
   ],
   "source": [
    "#set the height and width of the plot\n",
    "#subplots is function set height and width \n",
    "#figsize height =15 or width =10\n",
    "f,ax=plt.subplots(figsize=(15,10))\n",
    "#Generate correlation matrix using of corr funtion\n",
    "corr=Bike_corr.corr()\n",
    "#plot using seaborn library\n",
    "#heatmap is a function available in seaborn library help to plot correlation visualization\n",
    "#diverging_palette function to set color of correlation plot\n",
    "sns.heatmap(corr, mask=np.zeros_like(corr, dtype=np.bool), cmap=sns.diverging_palette(220, 10, as_cmap=True),\n",
    "            square=True, ax=ax)"
   ]
  },
  {
   "cell_type": "code",
   "execution_count": 382,
   "metadata": {},
   "outputs": [],
   "source": [
    "#correlation range is -1 to 1 \n",
    "#-1 means highly negitive correlated data plot show blue color\n",
    "#1 meand highly positive correlated data plot show red color\n",
    "#our dataset \"atemp\" or \"temp\" indepandent variable is highly positive correlated variable \n",
    "#Independent variable \"hum\" or target variable \"cnt\" is no relationship \n",
    "#so we drop two variable atemp or hum variable in our Bike dataset \n",
    "#droping highly correlated variable\n",
    "Bike_day = Bike.drop(['atemp','hum'], axis=1)\n",
    "\n",
    "\n"
   ]
  },
  {
   "cell_type": "code",
   "execution_count": 383,
   "metadata": {},
   "outputs": [
    {
     "data": {
      "text/plain": [
       "(687, 14)"
      ]
     },
     "execution_count": 383,
     "metadata": {},
     "output_type": "execute_result"
    }
   ],
   "source": [
    "#Twp correlated varaible is drop now 14 column is available in Bike dataset \n",
    "Bike_day.shape"
   ]
  },
  {
   "cell_type": "code",
   "execution_count": 384,
   "metadata": {},
   "outputs": [
    {
     "data": {
      "text/html": [
       "<div>\n",
       "<style scoped>\n",
       "    .dataframe tbody tr th:only-of-type {\n",
       "        vertical-align: middle;\n",
       "    }\n",
       "\n",
       "    .dataframe tbody tr th {\n",
       "        vertical-align: top;\n",
       "    }\n",
       "\n",
       "    .dataframe thead th {\n",
       "        text-align: right;\n",
       "    }\n",
       "</style>\n",
       "<table border=\"1\" class=\"dataframe\">\n",
       "  <thead>\n",
       "    <tr style=\"text-align: right;\">\n",
       "      <th></th>\n",
       "      <th>instant</th>\n",
       "      <th>dteday</th>\n",
       "      <th>season</th>\n",
       "      <th>yr</th>\n",
       "      <th>mnth</th>\n",
       "      <th>holiday</th>\n",
       "      <th>weekday</th>\n",
       "      <th>workingday</th>\n",
       "      <th>weathersit</th>\n",
       "      <th>temp</th>\n",
       "      <th>windspeed</th>\n",
       "      <th>casual</th>\n",
       "      <th>registered</th>\n",
       "      <th>cnt</th>\n",
       "    </tr>\n",
       "  </thead>\n",
       "  <tbody>\n",
       "    <tr>\n",
       "      <td>0</td>\n",
       "      <td>1</td>\n",
       "      <td>1/1/2011</td>\n",
       "      <td>1</td>\n",
       "      <td>0</td>\n",
       "      <td>1</td>\n",
       "      <td>0</td>\n",
       "      <td>6</td>\n",
       "      <td>0</td>\n",
       "      <td>2</td>\n",
       "      <td>0.344167</td>\n",
       "      <td>0.160446</td>\n",
       "      <td>331</td>\n",
       "      <td>654</td>\n",
       "      <td>985</td>\n",
       "    </tr>\n",
       "    <tr>\n",
       "      <td>1</td>\n",
       "      <td>2</td>\n",
       "      <td>1/2/2011</td>\n",
       "      <td>1</td>\n",
       "      <td>0</td>\n",
       "      <td>1</td>\n",
       "      <td>0</td>\n",
       "      <td>0</td>\n",
       "      <td>0</td>\n",
       "      <td>2</td>\n",
       "      <td>0.363478</td>\n",
       "      <td>0.248539</td>\n",
       "      <td>131</td>\n",
       "      <td>670</td>\n",
       "      <td>801</td>\n",
       "    </tr>\n",
       "    <tr>\n",
       "      <td>2</td>\n",
       "      <td>3</td>\n",
       "      <td>1/3/2011</td>\n",
       "      <td>1</td>\n",
       "      <td>0</td>\n",
       "      <td>1</td>\n",
       "      <td>0</td>\n",
       "      <td>1</td>\n",
       "      <td>1</td>\n",
       "      <td>1</td>\n",
       "      <td>0.196364</td>\n",
       "      <td>0.248309</td>\n",
       "      <td>120</td>\n",
       "      <td>1229</td>\n",
       "      <td>1349</td>\n",
       "    </tr>\n",
       "    <tr>\n",
       "      <td>3</td>\n",
       "      <td>4</td>\n",
       "      <td>1/4/2011</td>\n",
       "      <td>1</td>\n",
       "      <td>0</td>\n",
       "      <td>1</td>\n",
       "      <td>0</td>\n",
       "      <td>2</td>\n",
       "      <td>1</td>\n",
       "      <td>1</td>\n",
       "      <td>0.200000</td>\n",
       "      <td>0.160296</td>\n",
       "      <td>108</td>\n",
       "      <td>1454</td>\n",
       "      <td>1562</td>\n",
       "    </tr>\n",
       "    <tr>\n",
       "      <td>4</td>\n",
       "      <td>5</td>\n",
       "      <td>1/5/2011</td>\n",
       "      <td>1</td>\n",
       "      <td>0</td>\n",
       "      <td>1</td>\n",
       "      <td>0</td>\n",
       "      <td>3</td>\n",
       "      <td>1</td>\n",
       "      <td>1</td>\n",
       "      <td>0.226957</td>\n",
       "      <td>0.186900</td>\n",
       "      <td>82</td>\n",
       "      <td>1518</td>\n",
       "      <td>1600</td>\n",
       "    </tr>\n",
       "  </tbody>\n",
       "</table>\n",
       "</div>"
      ],
      "text/plain": [
       "   instant    dteday  season  yr  mnth  holiday  weekday  workingday  \\\n",
       "0        1  1/1/2011       1   0     1        0        6           0   \n",
       "1        2  1/2/2011       1   0     1        0        0           0   \n",
       "2        3  1/3/2011       1   0     1        0        1           1   \n",
       "3        4  1/4/2011       1   0     1        0        2           1   \n",
       "4        5  1/5/2011       1   0     1        0        3           1   \n",
       "\n",
       "   weathersit      temp  windspeed  casual  registered   cnt  \n",
       "0           2  0.344167   0.160446     331         654   985  \n",
       "1           2  0.363478   0.248539     131         670   801  \n",
       "2           1  0.196364   0.248309     120        1229  1349  \n",
       "3           1  0.200000   0.160296     108        1454  1562  \n",
       "4           1  0.226957   0.186900      82        1518  1600  "
      ]
     },
     "execution_count": 384,
     "metadata": {},
     "output_type": "execute_result"
    }
   ],
   "source": [
    "#Top observation after drop atemp or hum variable\n",
    "Bike_day.head()"
   ]
  },
  {
   "cell_type": "markdown",
   "metadata": {},
   "source": [
    "# Feature Scaling"
   ]
  },
  {
   "cell_type": "code",
   "execution_count": 385,
   "metadata": {},
   "outputs": [],
   "source": [
    "#Normalization\n",
    "#Normalization is used to scale the data of an attribute so that it falls in a smaller range, such as -1.0 to 1.0 or 0.0 to 1.0.\n",
    "#In our dataset most numeric variable is normalize form so can't require to check outlier analysis thus variable \n",
    "#Normaliz varaible name is temp,atemp,hum ,windspeed thus are\n",
    "Bike_df =  Bike.copy()"
   ]
  },
  {
   "cell_type": "code",
   "execution_count": 386,
   "metadata": {},
   "outputs": [
    {
     "data": {
      "text/plain": [
       "(687, 16)"
      ]
     },
     "execution_count": 386,
     "metadata": {},
     "output_type": "execute_result"
    }
   ],
   "source": [
    "#allready in our dataset four variable is normal form \"temp\",\"atemp\",\"hum\",\"windspeed\"\n",
    "#two variable casual or registered are not normalized form so we convert their value in normal form \n",
    "Bike.shape"
   ]
  },
  {
   "cell_type": "code",
   "execution_count": 387,
   "metadata": {},
   "outputs": [
    {
     "data": {
      "text/plain": [
       "(array([92., 99., 73., 60., 98., 68., 64., 35., 26., 25., 12., 11.,  8.,\n",
       "        16.]),\n",
       " array([2.00000000e+00, 1.63142857e+02, 3.24285714e+02, 4.85428571e+02,\n",
       "        6.46571429e+02, 8.07714286e+02, 9.68857143e+02, 1.13000000e+03,\n",
       "        1.29114286e+03, 1.45228571e+03, 1.61342857e+03, 1.77457143e+03,\n",
       "        1.93571429e+03, 2.09685714e+03, 2.25800000e+03]),\n",
       " <a list of 14 Patch objects>)"
      ]
     },
     "execution_count": 387,
     "metadata": {},
     "output_type": "execute_result"
    },
    {
     "data": {
      "image/png": "[encoded data removed]",
      "text/plain": [
       "<Figure size 432x288 with 1 Axes>"
      ]
     },
     "metadata": {
      "needs_background": "light"
     },
     "output_type": "display_data"
    }
   ],
   "source": [
    "#Normality check in casual variable\n",
    "plt.hist(Bike[\"casual\"],bins=\"auto\")"
   ]
  },
  {
   "cell_type": "code",
   "execution_count": 388,
   "metadata": {},
   "outputs": [
    {
     "data": {
      "text/plain": [
       "(array([  6.,  25.,  41.,  59.,  49.,  57.,  86., 101.,  72.,  38.,  50.,\n",
       "         36.,  40.,  27.]),\n",
       " array([  20.        ,  514.71428571, 1009.42857143, 1504.14285714,\n",
       "        1998.85714286, 2493.57142857, 2988.28571429, 3483.        ,\n",
       "        3977.71428571, 4472.42857143, 4967.14285714, 5461.85714286,\n",
       "        5956.57142857, 6451.28571429, 6946.        ]),\n",
       " <a list of 14 Patch objects>)"
      ]
     },
     "execution_count": 388,
     "metadata": {},
     "output_type": "execute_result"
    },
    {
     "data": {
      "image/png": "[encoded data removed]",
      "text/plain": [
       "<Figure size 432x288 with 1 Axes>"
      ]
     },
     "metadata": {
      "needs_background": "light"
     },
     "output_type": "display_data"
    }
   ],
   "source": [
    "plt.hist(Bike[\"registered\"],bins=\"auto\")"
   ]
  },
  {
   "cell_type": "code",
   "execution_count": 389,
   "metadata": {},
   "outputs": [],
   "source": [
    "vnames=[\"casual\",\"registered\"]"
   ]
  },
  {
   "cell_type": "code",
   "execution_count": 390,
   "metadata": {},
   "outputs": [
    {
     "data": {
      "text/plain": [
       "['casual', 'registered']"
      ]
     },
     "execution_count": 390,
     "metadata": {},
     "output_type": "execute_result"
    }
   ],
   "source": [
    "vnames"
   ]
  },
  {
   "cell_type": "code",
   "execution_count": 391,
   "metadata": {},
   "outputs": [
    {
     "name": "stdout",
     "output_type": "stream",
     "text": [
      "casual\n",
      "registered\n"
     ]
    }
   ],
   "source": [
    "#Normalisation\n",
    "for i in vnames:\n",
    "    print(i)\n",
    "    Bike[i] = (Bike[i] - Bike[i].min())/(Bike[i].max() - Bike[i].min())"
   ]
  },
  {
   "cell_type": "code",
   "execution_count": 392,
   "metadata": {},
   "outputs": [
    {
     "data": {
      "text/plain": [
       "count    687.000000\n",
       "mean       0.323586\n",
       "std        0.231132\n",
       "min        0.000000\n",
       "25%        0.129876\n",
       "50%        0.297872\n",
       "75%        0.454122\n",
       "max        1.000000\n",
       "Name: casual, dtype: float64"
      ]
     },
     "execution_count": 392,
     "metadata": {},
     "output_type": "execute_result"
    }
   ],
   "source": [
    "#We convert casual variable in normal form \n",
    "Bike['casual'].describe()"
   ]
  },
  {
   "cell_type": "code",
   "execution_count": 393,
   "metadata": {},
   "outputs": [
    {
     "data": {
      "text/plain": [
       "count    687.000000\n",
       "mean       0.518157\n",
       "std        0.228177\n",
       "min        0.000000\n",
       "25%        0.351213\n",
       "50%        0.517326\n",
       "75%        0.673693\n",
       "max        1.000000\n",
       "Name: registered, dtype: float64"
      ]
     },
     "execution_count": 393,
     "metadata": {},
     "output_type": "execute_result"
    }
   ],
   "source": [
    "#registered variable \n",
    "Bike['registered'].describe()"
   ]
  },
  {
   "cell_type": "code",
   "execution_count": 394,
   "metadata": {},
   "outputs": [
    {
     "data": {
      "text/html": [
       "<div>\n",
       "<style scoped>\n",
       "    .dataframe tbody tr th:only-of-type {\n",
       "        vertical-align: middle;\n",
       "    }\n",
       "\n",
       "    .dataframe tbody tr th {\n",
       "        vertical-align: top;\n",
       "    }\n",
       "\n",
       "    .dataframe thead th {\n",
       "        text-align: right;\n",
       "    }\n",
       "</style>\n",
       "<table border=\"1\" class=\"dataframe\">\n",
       "  <thead>\n",
       "    <tr style=\"text-align: right;\">\n",
       "      <th></th>\n",
       "      <th>instant</th>\n",
       "      <th>dteday</th>\n",
       "      <th>season</th>\n",
       "      <th>yr</th>\n",
       "      <th>mnth</th>\n",
       "      <th>holiday</th>\n",
       "      <th>weekday</th>\n",
       "      <th>workingday</th>\n",
       "      <th>weathersit</th>\n",
       "      <th>temp</th>\n",
       "      <th>atemp</th>\n",
       "      <th>hum</th>\n",
       "      <th>windspeed</th>\n",
       "      <th>casual</th>\n",
       "      <th>registered</th>\n",
       "      <th>cnt</th>\n",
       "    </tr>\n",
       "  </thead>\n",
       "  <tbody>\n",
       "    <tr>\n",
       "      <td>0</td>\n",
       "      <td>1</td>\n",
       "      <td>1/1/2011</td>\n",
       "      <td>1</td>\n",
       "      <td>0</td>\n",
       "      <td>1</td>\n",
       "      <td>0</td>\n",
       "      <td>6</td>\n",
       "      <td>0</td>\n",
       "      <td>2</td>\n",
       "      <td>0.344167</td>\n",
       "      <td>0.363625</td>\n",
       "      <td>0.805833</td>\n",
       "      <td>0.160446</td>\n",
       "      <td>0.145833</td>\n",
       "      <td>0.091539</td>\n",
       "      <td>985</td>\n",
       "    </tr>\n",
       "    <tr>\n",
       "      <td>1</td>\n",
       "      <td>2</td>\n",
       "      <td>1/2/2011</td>\n",
       "      <td>1</td>\n",
       "      <td>0</td>\n",
       "      <td>1</td>\n",
       "      <td>0</td>\n",
       "      <td>0</td>\n",
       "      <td>0</td>\n",
       "      <td>2</td>\n",
       "      <td>0.363478</td>\n",
       "      <td>0.353739</td>\n",
       "      <td>0.696087</td>\n",
       "      <td>0.248539</td>\n",
       "      <td>0.057181</td>\n",
       "      <td>0.093849</td>\n",
       "      <td>801</td>\n",
       "    </tr>\n",
       "    <tr>\n",
       "      <td>2</td>\n",
       "      <td>3</td>\n",
       "      <td>1/3/2011</td>\n",
       "      <td>1</td>\n",
       "      <td>0</td>\n",
       "      <td>1</td>\n",
       "      <td>0</td>\n",
       "      <td>1</td>\n",
       "      <td>1</td>\n",
       "      <td>1</td>\n",
       "      <td>0.196364</td>\n",
       "      <td>0.189405</td>\n",
       "      <td>0.437273</td>\n",
       "      <td>0.248309</td>\n",
       "      <td>0.052305</td>\n",
       "      <td>0.174560</td>\n",
       "      <td>1349</td>\n",
       "    </tr>\n",
       "    <tr>\n",
       "      <td>3</td>\n",
       "      <td>4</td>\n",
       "      <td>1/4/2011</td>\n",
       "      <td>1</td>\n",
       "      <td>0</td>\n",
       "      <td>1</td>\n",
       "      <td>0</td>\n",
       "      <td>2</td>\n",
       "      <td>1</td>\n",
       "      <td>1</td>\n",
       "      <td>0.200000</td>\n",
       "      <td>0.212122</td>\n",
       "      <td>0.590435</td>\n",
       "      <td>0.160296</td>\n",
       "      <td>0.046986</td>\n",
       "      <td>0.207046</td>\n",
       "      <td>1562</td>\n",
       "    </tr>\n",
       "    <tr>\n",
       "      <td>4</td>\n",
       "      <td>5</td>\n",
       "      <td>1/5/2011</td>\n",
       "      <td>1</td>\n",
       "      <td>0</td>\n",
       "      <td>1</td>\n",
       "      <td>0</td>\n",
       "      <td>3</td>\n",
       "      <td>1</td>\n",
       "      <td>1</td>\n",
       "      <td>0.226957</td>\n",
       "      <td>0.229270</td>\n",
       "      <td>0.436957</td>\n",
       "      <td>0.186900</td>\n",
       "      <td>0.035461</td>\n",
       "      <td>0.216286</td>\n",
       "      <td>1600</td>\n",
       "    </tr>\n",
       "  </tbody>\n",
       "</table>\n",
       "</div>"
      ],
      "text/plain": [
       "   instant    dteday  season  yr  mnth  holiday  weekday  workingday  \\\n",
       "0        1  1/1/2011       1   0     1        0        6           0   \n",
       "1        2  1/2/2011       1   0     1        0        0           0   \n",
       "2        3  1/3/2011       1   0     1        0        1           1   \n",
       "3        4  1/4/2011       1   0     1        0        2           1   \n",
       "4        5  1/5/2011       1   0     1        0        3           1   \n",
       "\n",
       "   weathersit      temp     atemp       hum  windspeed    casual  registered  \\\n",
       "0           2  0.344167  0.363625  0.805833   0.160446  0.145833    0.091539   \n",
       "1           2  0.363478  0.353739  0.696087   0.248539  0.057181    0.093849   \n",
       "2           1  0.196364  0.189405  0.437273   0.248309  0.052305    0.174560   \n",
       "3           1  0.200000  0.212122  0.590435   0.160296  0.046986    0.207046   \n",
       "4           1  0.226957  0.229270  0.436957   0.186900  0.035461    0.216286   \n",
       "\n",
       "    cnt  \n",
       "0   985  \n",
       "1   801  \n",
       "2  1349  \n",
       "3  1562  \n",
       "4  1600  "
      ]
     },
     "execution_count": 394,
     "metadata": {},
     "output_type": "execute_result"
    }
   ],
   "source": [
    "Bike.head()"
   ]
  },
  {
   "cell_type": "markdown",
   "metadata": {},
   "source": [
    "# Model Selection"
   ]
  },
  {
   "cell_type": "code",
   "execution_count": 395,
   "metadata": {},
   "outputs": [],
   "source": [
    "#Splitting our dataset into training set and test set\n",
    "#Ration of dividing data set is 80 or 20 \n",
    "#split dataset into ratio 80 % train dataset or 20 % test dataset\n",
    "train, test = train_test_split(Bike_day, test_size=0.2)"
   ]
  },
  {
   "cell_type": "code",
   "execution_count": 396,
   "metadata": {},
   "outputs": [
    {
     "data": {
      "text/plain": [
       "(549, 14)"
      ]
     },
     "execution_count": 396,
     "metadata": {},
     "output_type": "execute_result"
    }
   ],
   "source": [
    "#Shape of train dataset\n",
    "#train dataset available 549 observation or 14 variable \n",
    "train.shape"
   ]
  },
  {
   "cell_type": "code",
   "execution_count": 397,
   "metadata": {},
   "outputs": [
    {
     "data": {
      "text/html": [
       "<div>\n",
       "<style scoped>\n",
       "    .dataframe tbody tr th:only-of-type {\n",
       "        vertical-align: middle;\n",
       "    }\n",
       "\n",
       "    .dataframe tbody tr th {\n",
       "        vertical-align: top;\n",
       "    }\n",
       "\n",
       "    .dataframe thead th {\n",
       "        text-align: right;\n",
       "    }\n",
       "</style>\n",
       "<table border=\"1\" class=\"dataframe\">\n",
       "  <thead>\n",
       "    <tr style=\"text-align: right;\">\n",
       "      <th></th>\n",
       "      <th>instant</th>\n",
       "      <th>dteday</th>\n",
       "      <th>season</th>\n",
       "      <th>yr</th>\n",
       "      <th>mnth</th>\n",
       "      <th>holiday</th>\n",
       "      <th>weekday</th>\n",
       "      <th>workingday</th>\n",
       "      <th>weathersit</th>\n",
       "      <th>temp</th>\n",
       "      <th>windspeed</th>\n",
       "      <th>casual</th>\n",
       "      <th>registered</th>\n",
       "      <th>cnt</th>\n",
       "    </tr>\n",
       "  </thead>\n",
       "  <tbody>\n",
       "    <tr>\n",
       "      <td>575</td>\n",
       "      <td>576</td>\n",
       "      <td>7/29/2012</td>\n",
       "      <td>3</td>\n",
       "      <td>1</td>\n",
       "      <td>7</td>\n",
       "      <td>0</td>\n",
       "      <td>0</td>\n",
       "      <td>0</td>\n",
       "      <td>1</td>\n",
       "      <td>0.721667</td>\n",
       "      <td>0.170396</td>\n",
       "      <td>2153</td>\n",
       "      <td>4444</td>\n",
       "      <td>6597</td>\n",
       "    </tr>\n",
       "    <tr>\n",
       "      <td>268</td>\n",
       "      <td>269</td>\n",
       "      <td>9/26/2011</td>\n",
       "      <td>4</td>\n",
       "      <td>0</td>\n",
       "      <td>9</td>\n",
       "      <td>0</td>\n",
       "      <td>1</td>\n",
       "      <td>1</td>\n",
       "      <td>2</td>\n",
       "      <td>0.649167</td>\n",
       "      <td>0.110700</td>\n",
       "      <td>684</td>\n",
       "      <td>3946</td>\n",
       "      <td>4630</td>\n",
       "    </tr>\n",
       "    <tr>\n",
       "      <td>360</td>\n",
       "      <td>361</td>\n",
       "      <td>12/27/2011</td>\n",
       "      <td>1</td>\n",
       "      <td>0</td>\n",
       "      <td>12</td>\n",
       "      <td>0</td>\n",
       "      <td>2</td>\n",
       "      <td>1</td>\n",
       "      <td>2</td>\n",
       "      <td>0.325000</td>\n",
       "      <td>0.188450</td>\n",
       "      <td>103</td>\n",
       "      <td>1059</td>\n",
       "      <td>1162</td>\n",
       "    </tr>\n",
       "    <tr>\n",
       "      <td>608</td>\n",
       "      <td>609</td>\n",
       "      <td>8/31/2012</td>\n",
       "      <td>3</td>\n",
       "      <td>1</td>\n",
       "      <td>8</td>\n",
       "      <td>0</td>\n",
       "      <td>5</td>\n",
       "      <td>1</td>\n",
       "      <td>1</td>\n",
       "      <td>0.764167</td>\n",
       "      <td>0.168533</td>\n",
       "      <td>1433</td>\n",
       "      <td>5917</td>\n",
       "      <td>7350</td>\n",
       "    </tr>\n",
       "    <tr>\n",
       "      <td>123</td>\n",
       "      <td>124</td>\n",
       "      <td>5/4/2011</td>\n",
       "      <td>2</td>\n",
       "      <td>0</td>\n",
       "      <td>5</td>\n",
       "      <td>0</td>\n",
       "      <td>3</td>\n",
       "      <td>1</td>\n",
       "      <td>2</td>\n",
       "      <td>0.414167</td>\n",
       "      <td>0.328996</td>\n",
       "      <td>255</td>\n",
       "      <td>2378</td>\n",
       "      <td>2633</td>\n",
       "    </tr>\n",
       "  </tbody>\n",
       "</table>\n",
       "</div>"
      ],
      "text/plain": [
       "     instant      dteday  season  yr  mnth  holiday  weekday  workingday  \\\n",
       "575      576   7/29/2012       3   1     7        0        0           0   \n",
       "268      269   9/26/2011       4   0     9        0        1           1   \n",
       "360      361  12/27/2011       1   0    12        0        2           1   \n",
       "608      609   8/31/2012       3   1     8        0        5           1   \n",
       "123      124    5/4/2011       2   0     5        0        3           1   \n",
       "\n",
       "     weathersit      temp  windspeed  casual  registered   cnt  \n",
       "575           1  0.721667   0.170396    2153        4444  6597  \n",
       "268           2  0.649167   0.110700     684        3946  4630  \n",
       "360           2  0.325000   0.188450     103        1059  1162  \n",
       "608           1  0.764167   0.168533    1433        5917  7350  \n",
       "123           2  0.414167   0.328996     255        2378  2633  "
      ]
     },
     "execution_count": 397,
     "metadata": {},
     "output_type": "execute_result"
    }
   ],
   "source": [
    "#top random observation in train dataset\n",
    "\n",
    "train.head()"
   ]
  },
  {
   "cell_type": "code",
   "execution_count": 398,
   "metadata": {},
   "outputs": [
    {
     "data": {
      "text/plain": [
       "(138, 14)"
      ]
     },
     "execution_count": 398,
     "metadata": {},
     "output_type": "execute_result"
    }
   ],
   "source": [
    "#Shape of test dataset\n",
    "#test dataset available 138 observation or 14 variable \n",
    "\n",
    "test.shape"
   ]
  },
  {
   "cell_type": "code",
   "execution_count": 399,
   "metadata": {},
   "outputs": [
    {
     "data": {
      "text/html": [
       "<div>\n",
       "<style scoped>\n",
       "    .dataframe tbody tr th:only-of-type {\n",
       "        vertical-align: middle;\n",
       "    }\n",
       "\n",
       "    .dataframe tbody tr th {\n",
       "        vertical-align: top;\n",
       "    }\n",
       "\n",
       "    .dataframe thead th {\n",
       "        text-align: right;\n",
       "    }\n",
       "</style>\n",
       "<table border=\"1\" class=\"dataframe\">\n",
       "  <thead>\n",
       "    <tr style=\"text-align: right;\">\n",
       "      <th></th>\n",
       "      <th>instant</th>\n",
       "      <th>dteday</th>\n",
       "      <th>season</th>\n",
       "      <th>yr</th>\n",
       "      <th>mnth</th>\n",
       "      <th>holiday</th>\n",
       "      <th>weekday</th>\n",
       "      <th>workingday</th>\n",
       "      <th>weathersit</th>\n",
       "      <th>temp</th>\n",
       "      <th>windspeed</th>\n",
       "      <th>casual</th>\n",
       "      <th>registered</th>\n",
       "      <th>cnt</th>\n",
       "    </tr>\n",
       "  </thead>\n",
       "  <tbody>\n",
       "    <tr>\n",
       "      <td>80</td>\n",
       "      <td>81</td>\n",
       "      <td>3/22/2011</td>\n",
       "      <td>2</td>\n",
       "      <td>0</td>\n",
       "      <td>3</td>\n",
       "      <td>0</td>\n",
       "      <td>2</td>\n",
       "      <td>1</td>\n",
       "      <td>1</td>\n",
       "      <td>0.441667</td>\n",
       "      <td>0.225750</td>\n",
       "      <td>460</td>\n",
       "      <td>2243</td>\n",
       "      <td>2703</td>\n",
       "    </tr>\n",
       "    <tr>\n",
       "      <td>685</td>\n",
       "      <td>686</td>\n",
       "      <td>11/16/2012</td>\n",
       "      <td>4</td>\n",
       "      <td>1</td>\n",
       "      <td>11</td>\n",
       "      <td>0</td>\n",
       "      <td>5</td>\n",
       "      <td>1</td>\n",
       "      <td>1</td>\n",
       "      <td>0.345000</td>\n",
       "      <td>0.171025</td>\n",
       "      <td>484</td>\n",
       "      <td>5214</td>\n",
       "      <td>5698</td>\n",
       "    </tr>\n",
       "    <tr>\n",
       "      <td>703</td>\n",
       "      <td>704</td>\n",
       "      <td>12/4/2012</td>\n",
       "      <td>4</td>\n",
       "      <td>1</td>\n",
       "      <td>12</td>\n",
       "      <td>0</td>\n",
       "      <td>2</td>\n",
       "      <td>1</td>\n",
       "      <td>1</td>\n",
       "      <td>0.475833</td>\n",
       "      <td>0.174129</td>\n",
       "      <td>551</td>\n",
       "      <td>6055</td>\n",
       "      <td>6606</td>\n",
       "    </tr>\n",
       "    <tr>\n",
       "      <td>396</td>\n",
       "      <td>397</td>\n",
       "      <td>2/1/2012</td>\n",
       "      <td>1</td>\n",
       "      <td>1</td>\n",
       "      <td>2</td>\n",
       "      <td>0</td>\n",
       "      <td>3</td>\n",
       "      <td>1</td>\n",
       "      <td>1</td>\n",
       "      <td>0.469167</td>\n",
       "      <td>0.189067</td>\n",
       "      <td>304</td>\n",
       "      <td>4275</td>\n",
       "      <td>4579</td>\n",
       "    </tr>\n",
       "    <tr>\n",
       "      <td>592</td>\n",
       "      <td>593</td>\n",
       "      <td>8/15/2012</td>\n",
       "      <td>3</td>\n",
       "      <td>1</td>\n",
       "      <td>8</td>\n",
       "      <td>0</td>\n",
       "      <td>3</td>\n",
       "      <td>1</td>\n",
       "      <td>1</td>\n",
       "      <td>0.706667</td>\n",
       "      <td>0.169771</td>\n",
       "      <td>1198</td>\n",
       "      <td>6149</td>\n",
       "      <td>7347</td>\n",
       "    </tr>\n",
       "  </tbody>\n",
       "</table>\n",
       "</div>"
      ],
      "text/plain": [
       "     instant      dteday  season  yr  mnth  holiday  weekday  workingday  \\\n",
       "80        81   3/22/2011       2   0     3        0        2           1   \n",
       "685      686  11/16/2012       4   1    11        0        5           1   \n",
       "703      704   12/4/2012       4   1    12        0        2           1   \n",
       "396      397    2/1/2012       1   1     2        0        3           1   \n",
       "592      593   8/15/2012       3   1     8        0        3           1   \n",
       "\n",
       "     weathersit      temp  windspeed  casual  registered   cnt  \n",
       "80            1  0.441667   0.225750     460        2243  2703  \n",
       "685           1  0.345000   0.171025     484        5214  5698  \n",
       "703           1  0.475833   0.174129     551        6055  6606  \n",
       "396           1  0.469167   0.189067     304        4275  4579  \n",
       "592           1  0.706667   0.169771    1198        6149  7347  "
      ]
     },
     "execution_count": 399,
     "metadata": {},
     "output_type": "execute_result"
    }
   ],
   "source": [
    "#top 5  observation in test dataset\n",
    "test.head()"
   ]
  },
  {
   "cell_type": "markdown",
   "metadata": {},
   "source": [
    "# Decision Tree Regressor Model"
   ]
  },
  {
   "cell_type": "code",
   "execution_count": 401,
   "metadata": {},
   "outputs": [],
   "source": [
    "#Importining Decison Tree Regressor Module from sklearn \n",
    "from sklearn.tree import DecisionTreeRegressor\n",
    "#We take here feature or data set\n",
    "#train data set to store  object train_features_one indepandent or target variable \n",
    "#We have to store variable in single object train_features_one independant variable \n",
    "train_features = train[['season','yr','mnth','holiday','weekday','weathersit','temp','windspeed','casual','registered']].values\n",
    "#Target variable \n",
    "train_target_feature = train['cnt'].values\n",
    "\n",
    "#test data set to store  object test_feature indepandent  or target variable\n",
    "#We have to store variable in single object test_feature independant variable \n",
    "test_feature = test[['season','yr','mnth','holiday','weekday','weathersit','temp','windspeed','casual','registered']].values\n",
    "#Target variable\n",
    "test_target_feature= test['cnt'].values"
   ]
  },
  {
   "cell_type": "code",
   "execution_count": 402,
   "metadata": {},
   "outputs": [],
   "source": [
    "#Decsion Tree Regressor\n",
    "DT_fit = DecisionTreeRegressor()\n",
    "#fit function Build a decision tree from the training set (X, y).\n",
    "DT_fit = DT_fit.fit(train_features, train_target_feature)"
   ]
  },
  {
   "cell_type": "code",
   "execution_count": 403,
   "metadata": {},
   "outputs": [
    {
     "data": {
      "text/plain": [
       "DecisionTreeRegressor(ccp_alpha=0.0, criterion='mse', max_depth=None,\n",
       "                      max_features=None, max_leaf_nodes=None,\n",
       "                      min_impurity_decrease=0.0, min_impurity_split=None,\n",
       "                      min_samples_leaf=1, min_samples_split=2,\n",
       "                      min_weight_fraction_leaf=0.0, presort='deprecated',\n",
       "                      random_state=None, splitter='best')"
      ]
     },
     "execution_count": 403,
     "metadata": {},
     "output_type": "execute_result"
    }
   ],
   "source": [
    "\n",
    "DT_fit"
   ]
  },
  {
   "cell_type": "code",
   "execution_count": 404,
   "metadata": {},
   "outputs": [],
   "source": [
    "#Apply model on test data\n",
    "#predict function Predict class or regression target for X.\n",
    "#predict is a function the predict unseen array in data set \n",
    "DT_predictions = DT_fit.predict(test_feature)"
   ]
  },
  {
   "cell_type": "code",
   "execution_count": 405,
   "metadata": {},
   "outputs": [
    {
     "data": {
      "text/plain": [
       "array([2475., 5501., 7055., 4773., 7286., 4073., 3249., 4862., 6861.,\n",
       "       3659., 6421., 6031., 1098., 4066., 7350., 3267., 3190., 7013.,\n",
       "       6664., 3577., 2808., 3959., 5191., 4833., 3071., 5743., 6966.,\n",
       "       6053., 5611., 4833., 2808., 6598., 2429., 4097., 4978., 4845.,\n",
       "       3922., 6169., 1005., 4182., 1446., 7424., 2402., 1977., 6598.,\n",
       "       5611., 5743., 8156., 3577., 3190., 6869., 1812., 4326., 2802.,\n",
       "       5202., 7525., 4433., 1842., 2594., 7384., 5010., 4629., 5255.,\n",
       "       1005., 3574., 2294., 5698., 2417., 5375., 3068., 4189., 7494.,\n",
       "       1872., 6824., 4511., 4576., 1842., 6233., 5566., 4911., 1562.,\n",
       "       2802., 7580., 5099., 4154., 3709., 4978., 4098., 1913., 5035.,\n",
       "       4844., 6233., 6871., 4866., 3403., 3292., 5260., 7216., 2115.,\n",
       "       4182., 7870., 6031., 3409., 1416., 5202., 5892., 3520.,  627.,\n",
       "       3331., 4795.,  795., 2935., 1977., 5087., 7273., 1341., 6998.,\n",
       "       4839., 3982., 4400., 5918., 5892., 5119., 3873., 7870., 1606.,\n",
       "       1977., 5633., 3243., 4401., 5138., 7013., 5119., 3115., 2935.,\n",
       "       7504., 7665., 2594.])"
      ]
     },
     "execution_count": 405,
     "metadata": {},
     "output_type": "execute_result"
    }
   ],
   "source": [
    "#This is prediction value \n",
    "DT_predictions"
   ]
  },
  {
   "cell_type": "markdown",
   "metadata": {},
   "source": [
    "# Evaluation decison Tree Regressor model"
   ]
  },
  {
   "cell_type": "code",
   "execution_count": 406,
   "metadata": {},
   "outputs": [],
   "source": [
    "#Define MAPE function \n",
    "#Calculate Mean absolute percentage error (MAPE) \n",
    "#we have create MAPE function to calculate \n",
    "def MAPE(y_true, y_pred): \n",
    "    mape = np.mean(np.abs((y_true - y_pred) / y_true))*100\n",
    "    return mape\n"
   ]
  },
  {
   "cell_type": "code",
   "execution_count": 407,
   "metadata": {},
   "outputs": [
    {
     "data": {
      "text/plain": [
       "3.4445952800332718"
      ]
     },
     "execution_count": 407,
     "metadata": {},
     "output_type": "execute_result"
    }
   ],
   "source": [
    "#Evaluate Decission tree regressor  using of MAPE \n",
    "#Mean absolute percentage error \n",
    "MAPE(test_target_feature, DT_predictions)\n",
    "#Here MAPE  is a measure of prediction accuracy of a forecasting method in statistics\n"
   ]
  },
  {
   "cell_type": "code",
   "execution_count": 408,
   "metadata": {},
   "outputs": [],
   "source": [
    "#Mean squared error\n",
    "#we have import mean_squared_error to calculate MSE \n",
    "from sklearn.metrics import mean_squared_error\n",
    "\n"
   ]
  },
  {
   "cell_type": "code",
   "execution_count": 409,
   "metadata": {},
   "outputs": [
    {
     "data": {
      "text/plain": [
       "34693.32608695652"
      ]
     },
     "execution_count": 409,
     "metadata": {},
     "output_type": "execute_result"
    }
   ],
   "source": [
    "\n",
    "#Mean squared error\n",
    "mean_squared_error(test_target_feature,DT_predictions)\n",
    "#Here MSE that is, the average squared difference between the estimated values and the actual value.\n"
   ]
  },
  {
   "cell_type": "code",
   "execution_count": 410,
   "metadata": {},
   "outputs": [],
   "source": [
    "#RMSE Root mean squared error\n",
    "#math library available sqrt function\n",
    "#sqrt function calculate square root\n",
    "from math import sqrt\n",
    "result=sqrt(mean_squared_error(test_target_feature,DT_predictions))\n",
    "#here RMSE is a frequently used measure of the differences between values predicted \n",
    "#by a model or an estimator and the values observed. "
   ]
  },
  {
   "cell_type": "code",
   "execution_count": 411,
   "metadata": {},
   "outputs": [
    {
     "data": {
      "text/plain": [
       "186.2614455193466"
      ]
     },
     "execution_count": 411,
     "metadata": {},
     "output_type": "execute_result"
    }
   ],
   "source": [
    "#Here RMSE \n",
    "result "
   ]
  },
  {
   "cell_type": "markdown",
   "metadata": {},
   "source": [
    "# Random Forest"
   ]
  },
  {
   "cell_type": "code",
   "execution_count": 412,
   "metadata": {},
   "outputs": [],
   "source": [
    "#Implemantion of Random forest Regressor Model\n",
    "#Importing Random Forest Regressor Module from sklearn.ensemble pakage \n",
    "from sklearn.ensemble import RandomForestRegressor\n",
    "#train data set to store  object train_features_one indepandent or target variable \n",
    "#We have to store variable in single object train_features_one independant variable \n",
    "train_features=train[['season','yr','mnth','holiday','weekday','weathersit','temp','windspeed','casual','registered']].values\n",
    "#Target variable \n",
    "train_target_feature = train['cnt'].values\n",
    "\n",
    "#test data set to store  object test_feature indepandent  or target variable\n",
    "#We have to store variable in single object test_feature independant variable \n",
    "test_feature=test[['season','yr','mnth','holiday','weekday','weathersit','temp','windspeed','casual','registered']].values\n",
    "#Target variable\n",
    "test_target_feature= test['cnt'].values\n",
    "#Creating a Random Forest Regressor model and fitting it to the training data\n",
    "#A model comprised of many models is called an Ensemble model.\n",
    "#For this model I’ve chosen 400 trees (n_estimator=400)\n",
    "RF_model= RandomForestRegressor(n_estimators= 400, random_state=200).fit(train_features,train_target_feature)"
   ]
  },
  {
   "cell_type": "code",
   "execution_count": 413,
   "metadata": {},
   "outputs": [
    {
     "data": {
      "text/plain": [
       "RandomForestRegressor(bootstrap=True, ccp_alpha=0.0, criterion='mse',\n",
       "                      max_depth=None, max_features='auto', max_leaf_nodes=None,\n",
       "                      max_samples=None, min_impurity_decrease=0.0,\n",
       "                      min_impurity_split=None, min_samples_leaf=1,\n",
       "                      min_samples_split=2, min_weight_fraction_leaf=0.0,\n",
       "                      n_estimators=400, n_jobs=None, oob_score=False,\n",
       "                      random_state=200, verbose=0, warm_start=False)"
      ]
     },
     "execution_count": 413,
     "metadata": {},
     "output_type": "execute_result"
    }
   ],
   "source": [
    "#RF_model object\n",
    "RF_model"
   ]
  },
  {
   "cell_type": "code",
   "execution_count": 414,
   "metadata": {},
   "outputs": [],
   "source": [
    "#predict is a collection of objects, and the ordering of predictions is the same as the ordering of data passed in\n",
    "RF_predictions= RF_model.predict(test_feature)"
   ]
  },
  {
   "cell_type": "code",
   "execution_count": 415,
   "metadata": {},
   "outputs": [
    {
     "data": {
      "text/plain": [
       "array([2567.2075, 5677.6325, 6808.005 , 4629.65  , 7320.24  , 4041.6825,\n",
       "       3020.4175, 4559.2625, 6894.5825, 3855.1725, 6374.8775, 5674.6725,\n",
       "       1147.7125, 4066.905 , 7112.685 , 3539.845 , 3204.445 , 6800.615 ,\n",
       "       6600.805 , 3575.1875, 2767.85  , 4129.9675, 5147.1125, 4801.73  ,\n",
       "       3077.2525, 5711.5325, 6880.255 , 5415.285 , 5567.035 , 4794.415 ,\n",
       "       2771.465 , 5907.435 , 2375.9425, 4098.545 , 4970.835 , 4789.9375,\n",
       "       3977.935 , 6156.905 , 1022.7725, 4350.7975, 1467.2825, 7415.985 ,\n",
       "       2418.0175, 2122.105 , 5861.7575, 5531.67  , 5677.845 , 7835.3525,\n",
       "       3637.6775, 3063.41  , 6674.93  , 1633.8375, 4323.27  , 2956.3825,\n",
       "       5291.26  , 7477.78  , 4424.955 , 1982.475 , 2781.1975, 7433.1975,\n",
       "       4944.8875, 4608.7025, 5283.07  , 1093.2675, 3622.9725, 2434.5925,\n",
       "       5357.94  , 2121.8325, 5329.3075, 3088.905 , 4157.66  , 7458.9175,\n",
       "       1942.4475, 6306.2075, 4339.6975, 4668.51  , 1859.1375, 6218.    ,\n",
       "       5523.465 , 4915.77  , 1536.8975, 2963.19  , 7841.1275, 5104.35  ,\n",
       "       4286.29  , 3726.78  , 4931.595 , 4088.94  , 1793.5175, 5020.19  ,\n",
       "       4778.17  , 6291.53  , 6588.22  , 4838.9125, 3160.2125, 3167.225 ,\n",
       "       5369.815 , 7098.695 , 2134.4475, 4103.975 , 7695.4175, 6385.5275,\n",
       "       3334.8   , 1406.6875, 5297.0375, 5743.07  , 3508.9975,  707.8475,\n",
       "       3213.1325, 4789.3875,  872.9875, 3148.4275, 2075.5425, 5077.675 ,\n",
       "       7294.0625, 1447.7325, 6793.63  , 4887.9225, 3837.115 , 4330.9575,\n",
       "       5801.5725, 6309.7475, 5204.12  , 4288.255 , 7693.2375, 1729.095 ,\n",
       "       2066.825 , 5641.4925, 3183.275 , 4496.0925, 5225.77  , 6884.9325,\n",
       "       4956.835 , 3170.0675, 3188.6525, 7464.605 , 7550.2125, 2543.78  ])"
      ]
     },
     "execution_count": 415,
     "metadata": {},
     "output_type": "execute_result"
    }
   ],
   "source": [
    "#Prediction of unseen data using or predict function \n",
    "#prediction array value is\n",
    "RF_predictions"
   ]
  },
  {
   "cell_type": "markdown",
   "metadata": {},
   "source": [
    "# Evaluation Random Forest Model"
   ]
  },
  {
   "cell_type": "code",
   "execution_count": 416,
   "metadata": {},
   "outputs": [
    {
     "data": {
      "text/plain": [
       "1.6383050462467237"
      ]
     },
     "execution_count": 416,
     "metadata": {},
     "output_type": "execute_result"
    }
   ],
   "source": [
    "#Using of MAPE fucntion we calculate Mean absolute percenatage \n",
    "#Evaluate Random forest using  MAPE \n",
    "MAPE(test_target_feature, RF_predictions)\n",
    "#Mean absolute percentage error "
   ]
  },
  {
   "cell_type": "code",
   "execution_count": 417,
   "metadata": {},
   "outputs": [
    {
     "data": {
      "text/plain": [
       "12092.9927888587"
      ]
     },
     "execution_count": 417,
     "metadata": {},
     "output_type": "execute_result"
    }
   ],
   "source": [
    "#Mean squared error\n",
    "#we have import mean_squared_error to calculate MSE \n",
    "from sklearn.metrics import mean_squared_error\n",
    "mean_squared_error(test_target_feature,RF_predictions)\n",
    "#Here MSE \n"
   ]
  },
  {
   "cell_type": "code",
   "execution_count": 418,
   "metadata": {},
   "outputs": [],
   "source": [
    "#RMSE Root mean squared error\n",
    "#math library available sqrt function\n",
    "#sqrt function calculate square root\n",
    "from math import sqrt\n",
    "result=sqrt(mean_squared_error(test_target_feature,RF_predictions))"
   ]
  },
  {
   "cell_type": "code",
   "execution_count": 419,
   "metadata": {},
   "outputs": [
    {
     "data": {
      "text/plain": [
       "109.96814442764186"
      ]
     },
     "execution_count": 419,
     "metadata": {},
     "output_type": "execute_result"
    }
   ],
   "source": [
    "#RMSE \n",
    "result\n",
    "#Here Root mean squared error RMSE is given below"
   ]
  },
  {
   "cell_type": "markdown",
   "metadata": {},
   "source": [
    "# Linear Regression Model"
   ]
  },
  {
   "cell_type": "code",
   "execution_count": 420,
   "metadata": {},
   "outputs": [],
   "source": [
    "#We take here feature or data set\n",
    "#train data set to store  object train_features_one indepandent or target variable \n",
    "#We have to store variable in single object train_features_one independant variable \n",
    "train_features = train[['season','yr','mnth','holiday','weekday','weathersit','temp','windspeed','casual','registered']].values\n",
    "#Target variable \n",
    "train_target_feature = train['cnt'].values\n",
    "\n",
    "#test data set to store  object test_feature indepandent  or target variable\n",
    "#We have to store variable in single object test_feature independant variable \n",
    "test_feature = test[['season','yr','mnth','holiday','weekday','weathersit','temp','windspeed','casual','registered']].values\n",
    "#Target variable\n",
    "test_target_feature= test['cnt'].values"
   ]
  },
  {
   "cell_type": "code",
   "execution_count": 421,
   "metadata": {},
   "outputs": [],
   "source": [
    "#statsmodels is a Python module that provides classes and functions for the estimation of many different statistical models, \n",
    "#as well as for conducting statistical tests, and statistical data exploration\n",
    "import statsmodels.api as sm\n",
    "#implement of Linear regression model\n",
    "#OLS stands for Ordinary Least Squares\n",
    "LR_model= sm.OLS(train_target_feature, train_features).fit()\n"
   ]
  },
  {
   "cell_type": "code",
   "execution_count": 422,
   "metadata": {},
   "outputs": [
    {
     "data": {
      "text/html": [
       "<table class=\"simpletable\">\n",
       "<caption>OLS Regression Results</caption>\n",
       "<tr>\n",
       "  <th>Dep. Variable:</th>            <td>y</td>        <th>  R-squared (uncentered):</th>       <td>   1.000</td> \n",
       "</tr>\n",
       "<tr>\n",
       "  <th>Model:</th>                   <td>OLS</td>       <th>  Adj. R-squared (uncentered):</th>  <td>   1.000</td> \n",
       "</tr>\n",
       "<tr>\n",
       "  <th>Method:</th>             <td>Least Squares</td>  <th>  F-statistic:       </th>           <td>1.278e+31</td>\n",
       "</tr>\n",
       "<tr>\n",
       "  <th>Date:</th>             <td>Sun, 12 Apr 2020</td> <th>  Prob (F-statistic):</th>            <td>  0.00</td>  \n",
       "</tr>\n",
       "<tr>\n",
       "  <th>Time:</th>                 <td>23:59:02</td>     <th>  Log-Likelihood:    </th>           <td>  13147.</td> \n",
       "</tr>\n",
       "<tr>\n",
       "  <th>No. Observations:</th>      <td>   549</td>      <th>  AIC:               </th>          <td>-2.627e+04</td>\n",
       "</tr>\n",
       "<tr>\n",
       "  <th>Df Residuals:</th>          <td>   539</td>      <th>  BIC:               </th>          <td>-2.623e+04</td>\n",
       "</tr>\n",
       "<tr>\n",
       "  <th>Df Model:</th>              <td>    10</td>      <th>                     </th>               <td> </td>    \n",
       "</tr>\n",
       "<tr>\n",
       "  <th>Covariance Type:</th>      <td>nonrobust</td>    <th>                     </th>               <td> </td>    \n",
       "</tr>\n",
       "</table>\n",
       "<table class=\"simpletable\">\n",
       "<tr>\n",
       "   <td></td>      <th>coef</th>     <th>std err</th>      <th>t</th>      <th>P>|t|</th>  <th>[0.025</th>    <th>0.975]</th>  \n",
       "</tr>\n",
       "<tr>\n",
       "  <th>x1</th>  <td> 1.684e-12</td> <td> 7.42e-13</td> <td>    2.269</td> <td> 0.024</td> <td> 2.26e-13</td> <td> 3.14e-12</td>\n",
       "</tr>\n",
       "<tr>\n",
       "  <th>x2</th>  <td>-4.434e-12</td> <td> 1.27e-12</td> <td>   -3.502</td> <td> 0.000</td> <td>-6.92e-12</td> <td>-1.95e-12</td>\n",
       "</tr>\n",
       "<tr>\n",
       "  <th>x3</th>  <td>-5.684e-14</td> <td> 2.18e-13</td> <td>   -0.261</td> <td> 0.794</td> <td>-4.85e-13</td> <td> 3.71e-13</td>\n",
       "</tr>\n",
       "<tr>\n",
       "  <th>x4</th>  <td> 8.811e-13</td> <td> 2.68e-12</td> <td>    0.329</td> <td> 0.742</td> <td>-4.38e-12</td> <td> 6.14e-12</td>\n",
       "</tr>\n",
       "<tr>\n",
       "  <th>x5</th>  <td>-7.816e-14</td> <td> 2.13e-13</td> <td>   -0.367</td> <td> 0.714</td> <td>-4.97e-13</td> <td>  3.4e-13</td>\n",
       "</tr>\n",
       "<tr>\n",
       "  <th>x6</th>  <td> 6.679e-13</td> <td> 7.24e-13</td> <td>    0.923</td> <td> 0.356</td> <td>-7.54e-13</td> <td> 2.09e-12</td>\n",
       "</tr>\n",
       "<tr>\n",
       "  <th>x7</th>  <td> 9.095e-13</td> <td> 3.46e-12</td> <td>    0.263</td> <td> 0.792</td> <td>-5.88e-12</td> <td>  7.7e-12</td>\n",
       "</tr>\n",
       "<tr>\n",
       "  <th>x8</th>  <td>-4.775e-12</td> <td> 4.55e-12</td> <td>   -1.049</td> <td> 0.294</td> <td>-1.37e-11</td> <td> 4.16e-12</td>\n",
       "</tr>\n",
       "<tr>\n",
       "  <th>x9</th>  <td>    1.0000</td> <td> 1.09e-15</td> <td> 9.13e+14</td> <td> 0.000</td> <td>    1.000</td> <td>    1.000</td>\n",
       "</tr>\n",
       "<tr>\n",
       "  <th>x10</th> <td>    1.0000</td> <td> 4.96e-16</td> <td> 2.02e+15</td> <td> 0.000</td> <td>    1.000</td> <td>    1.000</td>\n",
       "</tr>\n",
       "</table>\n",
       "<table class=\"simpletable\">\n",
       "<tr>\n",
       "  <th>Omnibus:</th>       <td>190.677</td> <th>  Durbin-Watson:     </th> <td>   0.604</td>\n",
       "</tr>\n",
       "<tr>\n",
       "  <th>Prob(Omnibus):</th> <td> 0.000</td>  <th>  Jarque-Bera (JB):  </th> <td>  31.323</td>\n",
       "</tr>\n",
       "<tr>\n",
       "  <th>Skew:</th>          <td> 0.202</td>  <th>  Prob(JB):          </th> <td>1.58e-07</td>\n",
       "</tr>\n",
       "<tr>\n",
       "  <th>Kurtosis:</th>      <td> 1.902</td>  <th>  Cond. No.          </th> <td>4.49e+04</td>\n",
       "</tr>\n",
       "</table><br/><br/>Warnings:<br/>[1] Standard Errors assume that the covariance matrix of the errors is correctly specified.<br/>[2] The condition number is large, 4.49e+04. This might indicate that there are<br/>strong multicollinearity or other numerical problems."
      ],
      "text/plain": [
       "<class 'statsmodels.iolib.summary.Summary'>\n",
       "\"\"\"\n",
       "                                 OLS Regression Results                                \n",
       "=======================================================================================\n",
       "Dep. Variable:                      y   R-squared (uncentered):                   1.000\n",
       "Model:                            OLS   Adj. R-squared (uncentered):              1.000\n",
       "Method:                 Least Squares   F-statistic:                          1.278e+31\n",
       "Date:                Sun, 12 Apr 2020   Prob (F-statistic):                        0.00\n",
       "Time:                        23:59:02   Log-Likelihood:                          13147.\n",
       "No. Observations:                 549   AIC:                                 -2.627e+04\n",
       "Df Residuals:                     539   BIC:                                 -2.623e+04\n",
       "Df Model:                          10                                                  \n",
       "Covariance Type:            nonrobust                                                  \n",
       "==============================================================================\n",
       "                 coef    std err          t      P>|t|      [0.025      0.975]\n",
       "------------------------------------------------------------------------------\n",
       "x1          1.684e-12   7.42e-13      2.269      0.024    2.26e-13    3.14e-12\n",
       "x2         -4.434e-12   1.27e-12     -3.502      0.000   -6.92e-12   -1.95e-12\n",
       "x3         -5.684e-14   2.18e-13     -0.261      0.794   -4.85e-13    3.71e-13\n",
       "x4          8.811e-13   2.68e-12      0.329      0.742   -4.38e-12    6.14e-12\n",
       "x5         -7.816e-14   2.13e-13     -0.367      0.714   -4.97e-13     3.4e-13\n",
       "x6          6.679e-13   7.24e-13      0.923      0.356   -7.54e-13    2.09e-12\n",
       "x7          9.095e-13   3.46e-12      0.263      0.792   -5.88e-12     7.7e-12\n",
       "x8         -4.775e-12   4.55e-12     -1.049      0.294   -1.37e-11    4.16e-12\n",
       "x9             1.0000   1.09e-15   9.13e+14      0.000       1.000       1.000\n",
       "x10            1.0000   4.96e-16   2.02e+15      0.000       1.000       1.000\n",
       "==============================================================================\n",
       "Omnibus:                      190.677   Durbin-Watson:                   0.604\n",
       "Prob(Omnibus):                  0.000   Jarque-Bera (JB):               31.323\n",
       "Skew:                           0.202   Prob(JB):                     1.58e-07\n",
       "Kurtosis:                       1.902   Cond. No.                     4.49e+04\n",
       "==============================================================================\n",
       "\n",
       "Warnings:\n",
       "[1] Standard Errors assume that the covariance matrix of the errors is correctly specified.\n",
       "[2] The condition number is large, 4.49e+04. This might indicate that there are\n",
       "strong multicollinearity or other numerical problems.\n",
       "\"\"\""
      ]
     },
     "execution_count": 422,
     "metadata": {},
     "output_type": "execute_result"
    }
   ],
   "source": [
    "#summary of Linear Regression  model \n",
    "LR_model.summary()\n",
    "#Using of summary function we get summary of Linear Regression model\n",
    "#LR_model"
   ]
  },
  {
   "cell_type": "code",
   "execution_count": 423,
   "metadata": {},
   "outputs": [],
   "source": [
    "#predicting Linear regression model using predict function \n",
    "LR_predictions = LR_model.predict(test_feature)"
   ]
  },
  {
   "cell_type": "code",
   "execution_count": 424,
   "metadata": {},
   "outputs": [
    {
     "data": {
      "text/plain": [
       "array([2703., 5698., 6606., 4579., 7347., 4010., 2895., 4569., 6879.,\n",
       "       3894., 6203., 6034., 1096., 4023., 7175., 3485., 3141., 6784.,\n",
       "       6569., 3523., 2743., 4151., 5041., 4803., 2918., 5713., 6830.,\n",
       "       5423., 5532., 4790., 2832., 6304., 2485., 4128., 4968., 4792.,\n",
       "       3956., 6211., 1027., 4390., 1510., 7446., 2455., 2133., 6299.,\n",
       "       5495., 5728., 8167., 3620., 2999., 6392., 1589., 4338., 2913.,\n",
       "       5342., 7592., 4451., 1927., 2660., 7444., 5046., 4586., 5464.,\n",
       "       1107., 3641., 2689., 5409., 2077., 5267., 3117., 4105., 7436.,\n",
       "       1951., 6460., 4334., 4708., 1851., 6398., 5445., 4996., 1543.,\n",
       "       2933., 8173., 5115., 4339., 3727., 5058., 4094., 1749., 4916.,\n",
       "       4758., 6457., 6772., 4905., 3053., 3163., 5315., 7040., 2134.,\n",
       "       4120., 7720., 6544., 3348., 1360., 5312., 6118., 3510.,  705.,\n",
       "       3239., 4826.,  801., 3204., 2056., 5102., 7499., 1471., 6779.,\n",
       "       4891., 3614., 4304., 5847., 6359., 5302., 4302., 7591., 1712.,\n",
       "       2046., 5634., 3129., 4459., 5191., 6883., 4881., 3095., 3228.,\n",
       "       7442., 7639., 2432.])"
      ]
     },
     "execution_count": 424,
     "metadata": {},
     "output_type": "execute_result"
    }
   ],
   "source": [
    "LR_predictions"
   ]
  },
  {
   "cell_type": "markdown",
   "metadata": {},
   "source": [
    "# Evaluation Linear Regression Model"
   ]
  },
  {
   "cell_type": "code",
   "execution_count": 425,
   "metadata": {},
   "outputs": [
    {
     "data": {
      "text/plain": [
       "1.8235073296816553e-13"
      ]
     },
     "execution_count": 425,
     "metadata": {},
     "output_type": "execute_result"
    }
   ],
   "source": [
    "#Evaluate Linear regression model  using of MAPE \n",
    "#Mean absolute percentage error \n",
    "MAPE(test_target_feature, LR_predictions)\n",
    "#MAPE "
   ]
  },
  {
   "cell_type": "code",
   "execution_count": 426,
   "metadata": {},
   "outputs": [
    {
     "data": {
      "text/plain": [
       "1.0142150277562118e-22"
      ]
     },
     "execution_count": 426,
     "metadata": {},
     "output_type": "execute_result"
    }
   ],
   "source": [
    "#Evaluate MSE\n",
    "#Mean squared error\n",
    "mean_squared_error(test_target_feature,LR_predictions)\n",
    "#Here MSE =2.4407868961336697e-23"
   ]
  },
  {
   "cell_type": "code",
   "execution_count": 427,
   "metadata": {},
   "outputs": [],
   "source": [
    "#Evaluate RMSE\n",
    "#RMSE Root mean squared error\n",
    "#math library available sqrt function\n",
    "#sqrt function calculate square root\n",
    "from math import sqrt\n",
    "result=sqrt(mean_squared_error(test_target_feature,LR_predictions))"
   ]
  },
  {
   "cell_type": "code",
   "execution_count": 428,
   "metadata": {},
   "outputs": [
    {
     "data": {
      "text/plain": [
       "1.007082433446345e-11"
      ]
     },
     "execution_count": 428,
     "metadata": {},
     "output_type": "execute_result"
    }
   ],
   "source": [
    "result"
   ]
  },
  {
   "cell_type": "code",
   "execution_count": 429,
   "metadata": {},
   "outputs": [
    {
     "data": {
      "text/plain": [
       "'Conclusion for Bike dataset Linear Regression model is a best model and give\\n   approximately 99.9 percent accuracy for Bike rental count on daily based '"
      ]
     },
     "execution_count": 429,
     "metadata": {},
     "output_type": "execute_result"
    }
   ],
   "source": [
    "\"\"\"Conclusion for Bike dataset Linear Regression model is a best model and give\n",
    "   approximately 99.9 percent accuracy for Bike rental count on daily based \"\"\""
   ]
  },
  {
   "cell_type": "code",
   "execution_count": 434,
   "metadata": {},
   "outputs": [
    {
     "data": {
      "text/plain": [
       "'C:\\\\Users\\\\ASUS\\\\Desktop'"
      ]
     },
     "execution_count": 434,
     "metadata": {},
     "output_type": "execute_result"
    }
   ],
   "source": [
    "os.getcwd()"
   ]
  },
  {
   "cell_type": "code",
   "execution_count": null,
   "metadata": {},
   "outputs": [],
   "source": []
  },
  {
   "cell_type": "code",
   "execution_count": null,
   "metadata": {},
   "outputs": [],
   "source": [
    "\n"
   ]
  }
 ],
 "metadata": {
  "kernelspec": {
   "display_name": "Python 3",
   "language": "python",
   "name": "python3"
  },
  "language_info": {
   "codemirror_mode": {
    "name": "ipython",
    "version": 3
   },
   "file_extension": ".py",
   "mimetype": "text/x-python",
   "name": "python",
   "nbconvert_exporter": "python",
   "pygments_lexer": "ipython3",
   "version": "3.7.4"
  }
 },
 "nbformat": 4,
 "nbformat_minor": 2
}
